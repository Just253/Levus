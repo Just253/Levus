{
 "cells": [
  {
   "cell_type": "code",
   "execution_count": 1,
   "metadata": {},
   "outputs": [],
   "source": [
    "import csv\n",
    "\n",
    "import numpy as np\n",
    "import tensorflow as tf\n",
    "from sklearn.model_selection import train_test_split\n",
    "import keras\n",
    "\n",
    "RANDOM_SEED = 42"
   ]
  },
  {
   "cell_type": "code",
   "execution_count": 2,
   "metadata": {},
   "outputs": [
    {
     "name": "stdout",
     "output_type": "stream",
     "text": [
      "GPUs Available:  [PhysicalDevice(name='/physical_device:GPU:0', device_type='GPU')]\n"
     ]
    }
   ],
   "source": [
    "# Para la compatibilidad de GPU y tensorflow uso\n",
    "# tensorflow==2.10.1\n",
    "# cuda = 11.2\n",
    "# cudnn = 8.1.1\n",
    "# python = 3.10.9\n",
    "# https://www.tensorflow.org/install/source_windows?#gpu\n",
    "gpus = tf.config.experimental.list_physical_devices('GPU')\n",
    "if gpus:\n",
    "  print(\"GPUs Available: \", gpus)\n",
    "  try:\n",
    "    for gpu in gpus:\n",
    "      tf.config.experimental.set_memory_growth(gpu, True)\n",
    "  except RuntimeError as e:\n",
    "      print(e)"
   ]
  },
  {
   "cell_type": "markdown",
   "metadata": {},
   "source": [
    "# Especificación de cada ruta"
   ]
  },
  {
   "cell_type": "code",
   "execution_count": 3,
   "metadata": {},
   "outputs": [],
   "source": [
    "dataset = 'model/keypoint_classifier/keypoint.csv'\n",
    "model_save_path = 'model/keypoint_classifier/keypoint_classifier.keras'\n",
    "labels = 'model/keypoint_classifier/keypoint_classifier_label.csv'"
   ]
  },
  {
   "cell_type": "markdown",
   "metadata": {},
   "source": [
    "# Configuración del número de clasificaciones"
   ]
  },
  {
   "cell_type": "code",
   "execution_count": 4,
   "metadata": {},
   "outputs": [
    {
     "name": "stdout",
     "output_type": "stream",
     "text": [
      "['Open' 'Close' 'Pointer' 'Mouse_static' 'Mouse_click_right']\n"
     ]
    }
   ],
   "source": [
    "# Leer el contenido del archivo, eliminando el BOM si está presente\n",
    "with open(labels, 'r', encoding='utf-8-sig') as f:\n",
    "    content = f.read().splitlines()\n",
    "\n",
    "# Convertir el contenido a un array de NumPy\n",
    "labels_name = np.array(content, dtype=str)\n",
    "\n",
    "print(labels_name)\n",
    "NUM_CLASSES = len(labels_name)"
   ]
  },
  {
   "cell_type": "markdown",
   "metadata": {},
   "source": [
    "# Carga de datos de entrenamiento"
   ]
  },
  {
   "cell_type": "code",
   "execution_count": 21,
   "metadata": {},
   "outputs": [],
   "source": [
    "X_dataset = np.loadtxt(dataset, delimiter=',', dtype='float32', usecols=list(range(1, (21 * 2) + 1)))"
   ]
  },
  {
   "cell_type": "code",
   "execution_count": 22,
   "metadata": {},
   "outputs": [],
   "source": [
    "y_dataset = np.loadtxt(dataset, delimiter=',', dtype='int32', usecols=(0))"
   ]
  },
  {
   "cell_type": "code",
   "execution_count": 23,
   "metadata": {},
   "outputs": [],
   "source": [
    "X_train, X_test, y_train, y_test = train_test_split(X_dataset, y_dataset, train_size=0.75, random_state=RANDOM_SEED)"
   ]
  },
  {
   "cell_type": "markdown",
   "metadata": {},
   "source": [
    "# Construcción del modelo"
   ]
  },
  {
   "cell_type": "code",
   "execution_count": 25,
   "metadata": {},
   "outputs": [],
   "source": [
    "from keras.regularizers import l2\n",
    "model = keras.models.Sequential([\n",
    "    keras.layers.Input((21 * 2, )),\n",
    "    keras.layers.Dropout(0.2),\n",
    "    keras.layers.Dense(64, activation='relu', kernel_regularizer=l2(0.001)),\n",
    "    keras.layers.Dropout(0.4),\n",
    "    keras.layers.Dense(32, activation='relu', kernel_regularizer=l2(0.001)),\n",
    "    keras.layers.Dropout(0.4),\n",
    "    keras.layers.Dense(16, activation='relu'),\n",
    "    keras.layers.Dense(NUM_CLASSES, activation='softmax')\n",
    "])"
   ]
  },
  {
   "cell_type": "code",
   "execution_count": 26,
   "metadata": {},
   "outputs": [
    {
     "name": "stdout",
     "output_type": "stream",
     "text": [
      "Model: \"sequential_1\"\n",
      "_________________________________________________________________\n",
      " Layer (type)                Output Shape              Param #   \n",
      "=================================================================\n",
      " dropout_3 (Dropout)         (None, 42)                0         \n",
      "                                                                 \n",
      " dense_3 (Dense)             (None, 64)                2752      \n",
      "                                                                 \n",
      " dropout_4 (Dropout)         (None, 64)                0         \n",
      "                                                                 \n",
      " dense_4 (Dense)             (None, 32)                2080      \n",
      "                                                                 \n",
      " dropout_5 (Dropout)         (None, 32)                0         \n",
      "                                                                 \n",
      " dense_5 (Dense)             (None, 16)                528       \n",
      "                                                                 \n",
      " dense_6 (Dense)             (None, 5)                 85        \n",
      "                                                                 \n",
      "=================================================================\n",
      "Total params: 5,445\n",
      "Trainable params: 5,445\n",
      "Non-trainable params: 0\n",
      "_________________________________________________________________\n"
     ]
    }
   ],
   "source": [
    "model.summary()  # tf.keras.utils.plot_model(model, show_shapes=True)"
   ]
  },
  {
   "cell_type": "code",
   "execution_count": 27,
   "metadata": {},
   "outputs": [],
   "source": [
    "# Callback de punto de control del modelo\n",
    "cp_callback = keras.callbacks.ModelCheckpoint(\n",
    "    model_save_path, verbose=1, save_weights_only=False)\n",
    "# Callback para detención temprana\n",
    "es_callback = tf.keras.callbacks.EarlyStopping(patience=20, verbose=1)"
   ]
  },
  {
   "cell_type": "code",
   "execution_count": 28,
   "metadata": {},
   "outputs": [],
   "source": [
    "# Compilación del modelo\n",
    "model.compile(\n",
    "    optimizer='adam',\n",
    "    loss='sparse_categorical_crossentropy',\n",
    "    metrics=['accuracy']\n",
    ")"
   ]
  },
  {
   "cell_type": "markdown",
   "metadata": {},
   "source": [
    "# Entrenamiento del modelo"
   ]
  },
  {
   "cell_type": "code",
   "execution_count": 29,
   "metadata": {},
   "outputs": [
    {
     "name": "stdout",
     "output_type": "stream",
     "text": [
      "Epoch 1/1000\n",
      "22/23 [===========================>..] - ETA: 0s - loss: 1.6758 - accuracy: 0.2541\n",
      "Epoch 1: saving model to model/keypoint_classifier\\keypoint_classifier.keras\n",
      "23/23 [==============================] - 1s 14ms/step - loss: 1.6751 - accuracy: 0.2542 - val_loss: 1.5759 - val_accuracy: 0.4500\n",
      "Epoch 2/1000\n",
      "23/23 [==============================] - ETA: 0s - loss: 1.5655 - accuracy: 0.3333\n",
      "Epoch 2: saving model to model/keypoint_classifier\\keypoint_classifier.keras\n",
      "23/23 [==============================] - 0s 7ms/step - loss: 1.5655 - accuracy: 0.3333 - val_loss: 1.4204 - val_accuracy: 0.4463\n",
      "Epoch 3/1000\n",
      "16/23 [===================>..........] - ETA: 0s - loss: 1.4605 - accuracy: 0.3835\n",
      "Epoch 3: saving model to model/keypoint_classifier\\keypoint_classifier.keras\n",
      "23/23 [==============================] - 0s 6ms/step - loss: 1.4482 - accuracy: 0.3833 - val_loss: 1.2590 - val_accuracy: 0.4611\n",
      "Epoch 4/1000\n",
      "16/23 [===================>..........] - ETA: 0s - loss: 1.3617 - accuracy: 0.4099\n",
      "Epoch 4: saving model to model/keypoint_classifier\\keypoint_classifier.keras\n",
      "23/23 [==============================] - 0s 6ms/step - loss: 1.3440 - accuracy: 0.4161 - val_loss: 1.1180 - val_accuracy: 0.5300\n",
      "Epoch 5/1000\n",
      "15/23 [==================>...........] - ETA: 0s - loss: 1.2540 - accuracy: 0.4560\n",
      "Epoch 5: saving model to model/keypoint_classifier\\keypoint_classifier.keras\n",
      "23/23 [==============================] - 0s 6ms/step - loss: 1.2418 - accuracy: 0.4591 - val_loss: 1.0321 - val_accuracy: 0.5847\n",
      "Epoch 6/1000\n",
      "16/23 [===================>..........] - ETA: 0s - loss: 1.1862 - accuracy: 0.4805\n",
      "Epoch 6: saving model to model/keypoint_classifier\\keypoint_classifier.keras\n",
      "23/23 [==============================] - 0s 6ms/step - loss: 1.1735 - accuracy: 0.4893 - val_loss: 0.9440 - val_accuracy: 0.6542\n",
      "Epoch 7/1000\n",
      "18/23 [======================>.......] - ETA: 0s - loss: 1.1093 - accuracy: 0.5332\n",
      "Epoch 7: saving model to model/keypoint_classifier\\keypoint_classifier.keras\n",
      "23/23 [==============================] - 0s 6ms/step - loss: 1.1039 - accuracy: 0.5374 - val_loss: 0.8760 - val_accuracy: 0.7047\n",
      "Epoch 8/1000\n",
      "14/23 [=================>............] - ETA: 0s - loss: 1.0548 - accuracy: 0.5530\n",
      "Epoch 8: saving model to model/keypoint_classifier\\keypoint_classifier.keras\n",
      "23/23 [==============================] - 0s 7ms/step - loss: 1.0480 - accuracy: 0.5514 - val_loss: 0.8185 - val_accuracy: 0.6811\n",
      "Epoch 9/1000\n",
      "19/23 [=======================>......] - ETA: 0s - loss: 1.0178 - accuracy: 0.5644\n",
      "Epoch 9: saving model to model/keypoint_classifier\\keypoint_classifier.keras\n",
      "23/23 [==============================] - 0s 8ms/step - loss: 1.0159 - accuracy: 0.5689 - val_loss: 0.7820 - val_accuracy: 0.7000\n",
      "Epoch 10/1000\n",
      "18/23 [======================>.......] - ETA: 0s - loss: 0.9673 - accuracy: 0.5868\n",
      "Epoch 10: saving model to model/keypoint_classifier\\keypoint_classifier.keras\n",
      "23/23 [==============================] - 0s 6ms/step - loss: 0.9661 - accuracy: 0.5940 - val_loss: 0.7312 - val_accuracy: 0.7195\n",
      "Epoch 11/1000\n",
      "16/23 [===================>..........] - ETA: 0s - loss: 0.9277 - accuracy: 0.6152\n",
      "Epoch 11: saving model to model/keypoint_classifier\\keypoint_classifier.keras\n",
      "23/23 [==============================] - 0s 6ms/step - loss: 0.9281 - accuracy: 0.6142 - val_loss: 0.6998 - val_accuracy: 0.7316\n",
      "Epoch 12/1000\n",
      "16/23 [===================>..........] - ETA: 0s - loss: 0.8999 - accuracy: 0.6238\n",
      "Epoch 12: saving model to model/keypoint_classifier\\keypoint_classifier.keras\n",
      "23/23 [==============================] - 0s 6ms/step - loss: 0.9002 - accuracy: 0.6282 - val_loss: 0.6563 - val_accuracy: 0.7505\n",
      "Epoch 13/1000\n",
      "14/23 [=================>............] - ETA: 0s - loss: 0.8821 - accuracy: 0.6367\n",
      "Epoch 13: saving model to model/keypoint_classifier\\keypoint_classifier.keras\n",
      "23/23 [==============================] - 0s 7ms/step - loss: 0.8800 - accuracy: 0.6411 - val_loss: 0.6321 - val_accuracy: 0.7532\n",
      "Epoch 14/1000\n",
      "12/23 [==============>...............] - ETA: 0s - loss: 0.8660 - accuracy: 0.6481\n",
      "Epoch 14: saving model to model/keypoint_classifier\\keypoint_classifier.keras\n",
      "23/23 [==============================] - 0s 7ms/step - loss: 0.8427 - accuracy: 0.6611 - val_loss: 0.6120 - val_accuracy: 0.7600\n",
      "Epoch 15/1000\n",
      "15/23 [==================>...........] - ETA: 0s - loss: 0.8245 - accuracy: 0.6672\n",
      "Epoch 15: saving model to model/keypoint_classifier\\keypoint_classifier.keras\n",
      "23/23 [==============================] - 0s 6ms/step - loss: 0.8219 - accuracy: 0.6716 - val_loss: 0.5784 - val_accuracy: 0.7732\n",
      "Epoch 16/1000\n",
      "14/23 [=================>............] - ETA: 0s - loss: 0.8098 - accuracy: 0.6758\n",
      "Epoch 16: saving model to model/keypoint_classifier\\keypoint_classifier.keras\n",
      "23/23 [==============================] - 0s 6ms/step - loss: 0.8048 - accuracy: 0.6847 - val_loss: 0.5591 - val_accuracy: 0.7800\n",
      "Epoch 17/1000\n",
      "15/23 [==================>...........] - ETA: 0s - loss: 0.7744 - accuracy: 0.7049\n",
      "Epoch 17: saving model to model/keypoint_classifier\\keypoint_classifier.keras\n",
      "23/23 [==============================] - 0s 7ms/step - loss: 0.7757 - accuracy: 0.7065 - val_loss: 0.5359 - val_accuracy: 0.7921\n",
      "Epoch 18/1000\n",
      "12/23 [==============>...............] - ETA: 0s - loss: 0.7675 - accuracy: 0.7096\n",
      "Epoch 18: saving model to model/keypoint_classifier\\keypoint_classifier.keras\n",
      "23/23 [==============================] - 0s 8ms/step - loss: 0.7550 - accuracy: 0.7218 - val_loss: 0.5056 - val_accuracy: 0.8226\n",
      "Epoch 19/1000\n",
      "22/23 [===========================>..] - ETA: 0s - loss: 0.7437 - accuracy: 0.7306\n",
      "Epoch 19: saving model to model/keypoint_classifier\\keypoint_classifier.keras\n",
      "23/23 [==============================] - 0s 8ms/step - loss: 0.7443 - accuracy: 0.7300 - val_loss: 0.4821 - val_accuracy: 0.8711\n",
      "Epoch 20/1000\n",
      "13/23 [===============>..............] - ETA: 0s - loss: 0.7207 - accuracy: 0.7428\n",
      "Epoch 20: saving model to model/keypoint_classifier\\keypoint_classifier.keras\n",
      "23/23 [==============================] - 0s 8ms/step - loss: 0.7196 - accuracy: 0.7428 - val_loss: 0.4653 - val_accuracy: 0.8789\n",
      "Epoch 21/1000\n",
      "11/23 [=============>................] - ETA: 0s - loss: 0.7099 - accuracy: 0.7383\n",
      "Epoch 21: saving model to model/keypoint_classifier\\keypoint_classifier.keras\n",
      "23/23 [==============================] - 0s 8ms/step - loss: 0.7114 - accuracy: 0.7463 - val_loss: 0.4575 - val_accuracy: 0.8737\n",
      "Epoch 22/1000\n",
      "16/23 [===================>..........] - ETA: 0s - loss: 0.6771 - accuracy: 0.7644\n",
      "Epoch 22: saving model to model/keypoint_classifier\\keypoint_classifier.keras\n",
      "23/23 [==============================] - 0s 14ms/step - loss: 0.6801 - accuracy: 0.7607 - val_loss: 0.4276 - val_accuracy: 0.9205\n",
      "Epoch 23/1000\n",
      "14/23 [=================>............] - ETA: 0s - loss: 0.6723 - accuracy: 0.7648\n",
      "Epoch 23: saving model to model/keypoint_classifier\\keypoint_classifier.keras\n",
      "23/23 [==============================] - 0s 7ms/step - loss: 0.6692 - accuracy: 0.7674 - val_loss: 0.3863 - val_accuracy: 0.9547\n",
      "Epoch 24/1000\n",
      "14/23 [=================>............] - ETA: 0s - loss: 0.6539 - accuracy: 0.7743\n",
      "Epoch 24: saving model to model/keypoint_classifier\\keypoint_classifier.keras\n",
      "23/23 [==============================] - 0s 7ms/step - loss: 0.6502 - accuracy: 0.7761 - val_loss: 0.3843 - val_accuracy: 0.9416\n",
      "Epoch 25/1000\n",
      "18/23 [======================>.......] - ETA: 0s - loss: 0.6394 - accuracy: 0.7826\n",
      "Epoch 25: saving model to model/keypoint_classifier\\keypoint_classifier.keras\n",
      "23/23 [==============================] - 0s 6ms/step - loss: 0.6320 - accuracy: 0.7891 - val_loss: 0.3494 - val_accuracy: 0.9632\n",
      "Epoch 26/1000\n",
      "18/23 [======================>.......] - ETA: 0s - loss: 0.6090 - accuracy: 0.8021\n",
      "Epoch 26: saving model to model/keypoint_classifier\\keypoint_classifier.keras\n",
      "23/23 [==============================] - 0s 6ms/step - loss: 0.6155 - accuracy: 0.7993 - val_loss: 0.3449 - val_accuracy: 0.9474\n",
      "Epoch 27/1000\n",
      "17/23 [=====================>........] - ETA: 0s - loss: 0.6059 - accuracy: 0.8003\n",
      "Epoch 27: saving model to model/keypoint_classifier\\keypoint_classifier.keras\n",
      "23/23 [==============================] - 0s 6ms/step - loss: 0.6042 - accuracy: 0.8049 - val_loss: 0.3239 - val_accuracy: 0.9563\n",
      "Epoch 28/1000\n",
      "18/23 [======================>.......] - ETA: 0s - loss: 0.5807 - accuracy: 0.8158\n",
      "Epoch 28: saving model to model/keypoint_classifier\\keypoint_classifier.keras\n",
      "23/23 [==============================] - 0s 7ms/step - loss: 0.5771 - accuracy: 0.8184 - val_loss: 0.3193 - val_accuracy: 0.9605\n",
      "Epoch 29/1000\n",
      "23/23 [==============================] - ETA: 0s - loss: 0.5786 - accuracy: 0.8191\n",
      "Epoch 29: saving model to model/keypoint_classifier\\keypoint_classifier.keras\n",
      "23/23 [==============================] - 0s 9ms/step - loss: 0.5786 - accuracy: 0.8191 - val_loss: 0.2902 - val_accuracy: 0.9668\n",
      "Epoch 30/1000\n",
      "16/23 [===================>..........] - ETA: 0s - loss: 0.5691 - accuracy: 0.8191\n",
      "Epoch 30: saving model to model/keypoint_classifier\\keypoint_classifier.keras\n",
      "23/23 [==============================] - 0s 6ms/step - loss: 0.5615 - accuracy: 0.8240 - val_loss: 0.2933 - val_accuracy: 0.9616\n",
      "Epoch 31/1000\n",
      "17/23 [=====================>........] - ETA: 0s - loss: 0.5541 - accuracy: 0.8254\n",
      "Epoch 31: saving model to model/keypoint_classifier\\keypoint_classifier.keras\n",
      "23/23 [==============================] - 0s 6ms/step - loss: 0.5458 - accuracy: 0.8296 - val_loss: 0.2855 - val_accuracy: 0.9579\n",
      "Epoch 32/1000\n",
      "17/23 [=====================>........] - ETA: 0s - loss: 0.5340 - accuracy: 0.8392\n",
      "Epoch 32: saving model to model/keypoint_classifier\\keypoint_classifier.keras\n",
      "23/23 [==============================] - 0s 7ms/step - loss: 0.5326 - accuracy: 0.8404 - val_loss: 0.2729 - val_accuracy: 0.9653\n",
      "Epoch 33/1000\n",
      "14/23 [=================>............] - ETA: 0s - loss: 0.5321 - accuracy: 0.8398\n",
      "Epoch 33: saving model to model/keypoint_classifier\\keypoint_classifier.keras\n",
      "23/23 [==============================] - 0s 6ms/step - loss: 0.5154 - accuracy: 0.8484 - val_loss: 0.2628 - val_accuracy: 0.9632\n",
      "Epoch 34/1000\n",
      "15/23 [==================>...........] - ETA: 0s - loss: 0.5208 - accuracy: 0.8456\n",
      "Epoch 34: saving model to model/keypoint_classifier\\keypoint_classifier.keras\n",
      "23/23 [==============================] - 0s 7ms/step - loss: 0.5178 - accuracy: 0.8460 - val_loss: 0.2646 - val_accuracy: 0.9632\n",
      "Epoch 35/1000\n",
      "17/23 [=====================>........] - ETA: 0s - loss: 0.4979 - accuracy: 0.8557\n",
      "Epoch 35: saving model to model/keypoint_classifier\\keypoint_classifier.keras\n",
      "23/23 [==============================] - 0s 6ms/step - loss: 0.4991 - accuracy: 0.8554 - val_loss: 0.2527 - val_accuracy: 0.9647\n",
      "Epoch 36/1000\n",
      "16/23 [===================>..........] - ETA: 0s - loss: 0.5063 - accuracy: 0.8467\n",
      "Epoch 36: saving model to model/keypoint_classifier\\keypoint_classifier.keras\n",
      "23/23 [==============================] - 0s 6ms/step - loss: 0.4980 - accuracy: 0.8518 - val_loss: 0.2545 - val_accuracy: 0.9658\n",
      "Epoch 37/1000\n",
      "17/23 [=====================>........] - ETA: 0s - loss: 0.4948 - accuracy: 0.8541\n",
      "Epoch 37: saving model to model/keypoint_classifier\\keypoint_classifier.keras\n",
      "23/23 [==============================] - 0s 6ms/step - loss: 0.4940 - accuracy: 0.8549 - val_loss: 0.2462 - val_accuracy: 0.9658\n",
      "Epoch 38/1000\n",
      "17/23 [=====================>........] - ETA: 0s - loss: 0.4916 - accuracy: 0.8575\n",
      "Epoch 38: saving model to model/keypoint_classifier\\keypoint_classifier.keras\n",
      "23/23 [==============================] - 0s 6ms/step - loss: 0.4907 - accuracy: 0.8579 - val_loss: 0.2453 - val_accuracy: 0.9658\n",
      "Epoch 39/1000\n",
      "14/23 [=================>............] - ETA: 0s - loss: 0.4697 - accuracy: 0.8652\n",
      "Epoch 39: saving model to model/keypoint_classifier\\keypoint_classifier.keras\n",
      "23/23 [==============================] - 0s 7ms/step - loss: 0.4698 - accuracy: 0.8619 - val_loss: 0.2364 - val_accuracy: 0.9668\n",
      "Epoch 40/1000\n",
      "17/23 [=====================>........] - ETA: 0s - loss: 0.4667 - accuracy: 0.8580\n",
      "Epoch 40: saving model to model/keypoint_classifier\\keypoint_classifier.keras\n",
      "23/23 [==============================] - 0s 6ms/step - loss: 0.4677 - accuracy: 0.8602 - val_loss: 0.2334 - val_accuracy: 0.9658\n",
      "Epoch 41/1000\n",
      "18/23 [======================>.......] - ETA: 0s - loss: 0.4540 - accuracy: 0.8715\n",
      "Epoch 41: saving model to model/keypoint_classifier\\keypoint_classifier.keras\n",
      "23/23 [==============================] - 0s 6ms/step - loss: 0.4510 - accuracy: 0.8728 - val_loss: 0.2179 - val_accuracy: 0.9711\n",
      "Epoch 42/1000\n",
      "16/23 [===================>..........] - ETA: 0s - loss: 0.4536 - accuracy: 0.8662\n",
      "Epoch 42: saving model to model/keypoint_classifier\\keypoint_classifier.keras\n",
      "23/23 [==============================] - 0s 6ms/step - loss: 0.4537 - accuracy: 0.8660 - val_loss: 0.2234 - val_accuracy: 0.9711\n",
      "Epoch 43/1000\n",
      "15/23 [==================>...........] - ETA: 0s - loss: 0.4564 - accuracy: 0.8651\n",
      "Epoch 43: saving model to model/keypoint_classifier\\keypoint_classifier.keras\n",
      "23/23 [==============================] - 0s 6ms/step - loss: 0.4542 - accuracy: 0.8675 - val_loss: 0.2180 - val_accuracy: 0.9700\n",
      "Epoch 44/1000\n",
      "15/23 [==================>...........] - ETA: 0s - loss: 0.4416 - accuracy: 0.8742\n",
      "Epoch 44: saving model to model/keypoint_classifier\\keypoint_classifier.keras\n",
      "23/23 [==============================] - 0s 6ms/step - loss: 0.4456 - accuracy: 0.8740 - val_loss: 0.2145 - val_accuracy: 0.9726\n",
      "Epoch 45/1000\n",
      "15/23 [==================>...........] - ETA: 0s - loss: 0.4338 - accuracy: 0.8745\n",
      "Epoch 45: saving model to model/keypoint_classifier\\keypoint_classifier.keras\n",
      "23/23 [==============================] - 0s 6ms/step - loss: 0.4275 - accuracy: 0.8768 - val_loss: 0.2127 - val_accuracy: 0.9742\n",
      "Epoch 46/1000\n",
      "16/23 [===================>..........] - ETA: 0s - loss: 0.4363 - accuracy: 0.8792\n",
      "Epoch 46: saving model to model/keypoint_classifier\\keypoint_classifier.keras\n",
      "23/23 [==============================] - 0s 6ms/step - loss: 0.4369 - accuracy: 0.8753 - val_loss: 0.2113 - val_accuracy: 0.9711\n",
      "Epoch 47/1000\n",
      "15/23 [==================>...........] - ETA: 0s - loss: 0.4261 - accuracy: 0.8776\n",
      "Epoch 47: saving model to model/keypoint_classifier\\keypoint_classifier.keras\n",
      "23/23 [==============================] - 0s 6ms/step - loss: 0.4322 - accuracy: 0.8728 - val_loss: 0.2153 - val_accuracy: 0.9695\n",
      "Epoch 48/1000\n",
      "17/23 [=====================>........] - ETA: 0s - loss: 0.4307 - accuracy: 0.8743\n",
      "Epoch 48: saving model to model/keypoint_classifier\\keypoint_classifier.keras\n",
      "23/23 [==============================] - 0s 6ms/step - loss: 0.4339 - accuracy: 0.8737 - val_loss: 0.2079 - val_accuracy: 0.9742\n",
      "Epoch 49/1000\n",
      "13/23 [===============>..............] - ETA: 0s - loss: 0.4268 - accuracy: 0.8771\n",
      "Epoch 49: saving model to model/keypoint_classifier\\keypoint_classifier.keras\n",
      "23/23 [==============================] - 0s 7ms/step - loss: 0.4275 - accuracy: 0.8793 - val_loss: 0.2022 - val_accuracy: 0.9784\n",
      "Epoch 50/1000\n",
      "14/23 [=================>............] - ETA: 0s - loss: 0.4097 - accuracy: 0.8862\n",
      "Epoch 50: saving model to model/keypoint_classifier\\keypoint_classifier.keras\n",
      "23/23 [==============================] - 0s 7ms/step - loss: 0.4204 - accuracy: 0.8830 - val_loss: 0.2133 - val_accuracy: 0.9695\n",
      "Epoch 51/1000\n",
      "14/23 [=================>............] - ETA: 0s - loss: 0.4374 - accuracy: 0.8708\n",
      "Epoch 51: saving model to model/keypoint_classifier\\keypoint_classifier.keras\n",
      "23/23 [==============================] - 0s 7ms/step - loss: 0.4221 - accuracy: 0.8802 - val_loss: 0.2145 - val_accuracy: 0.9684\n",
      "Epoch 52/1000\n",
      "13/23 [===============>..............] - ETA: 0s - loss: 0.4321 - accuracy: 0.8855\n",
      "Epoch 52: saving model to model/keypoint_classifier\\keypoint_classifier.keras\n",
      "23/23 [==============================] - 0s 7ms/step - loss: 0.4277 - accuracy: 0.8837 - val_loss: 0.1983 - val_accuracy: 0.9784\n",
      "Epoch 53/1000\n",
      "13/23 [===============>..............] - ETA: 0s - loss: 0.4210 - accuracy: 0.8786\n",
      "Epoch 53: saving model to model/keypoint_classifier\\keypoint_classifier.keras\n",
      "23/23 [==============================] - 0s 7ms/step - loss: 0.4142 - accuracy: 0.8809 - val_loss: 0.1899 - val_accuracy: 0.9800\n",
      "Epoch 54/1000\n",
      "17/23 [=====================>........] - ETA: 0s - loss: 0.4170 - accuracy: 0.8759\n",
      "Epoch 54: saving model to model/keypoint_classifier\\keypoint_classifier.keras\n",
      "23/23 [==============================] - 0s 6ms/step - loss: 0.4142 - accuracy: 0.8777 - val_loss: 0.1940 - val_accuracy: 0.9753\n",
      "Epoch 55/1000\n",
      "16/23 [===================>..........] - ETA: 0s - loss: 0.4132 - accuracy: 0.8853\n",
      "Epoch 55: saving model to model/keypoint_classifier\\keypoint_classifier.keras\n",
      "23/23 [==============================] - 0s 6ms/step - loss: 0.4064 - accuracy: 0.8854 - val_loss: 0.2002 - val_accuracy: 0.9742\n",
      "Epoch 56/1000\n",
      "15/23 [==================>...........] - ETA: 0s - loss: 0.3894 - accuracy: 0.8924\n",
      "Epoch 56: saving model to model/keypoint_classifier\\keypoint_classifier.keras\n",
      "23/23 [==============================] - 0s 6ms/step - loss: 0.3951 - accuracy: 0.8902 - val_loss: 0.1937 - val_accuracy: 0.9742\n",
      "Epoch 57/1000\n",
      "15/23 [==================>...........] - ETA: 0s - loss: 0.3790 - accuracy: 0.8924\n",
      "Epoch 57: saving model to model/keypoint_classifier\\keypoint_classifier.keras\n",
      "23/23 [==============================] - 0s 6ms/step - loss: 0.3788 - accuracy: 0.8912 - val_loss: 0.1881 - val_accuracy: 0.9763\n",
      "Epoch 58/1000\n",
      "14/23 [=================>............] - ETA: 0s - loss: 0.3868 - accuracy: 0.8917\n",
      "Epoch 58: saving model to model/keypoint_classifier\\keypoint_classifier.keras\n",
      "23/23 [==============================] - 0s 6ms/step - loss: 0.3806 - accuracy: 0.8968 - val_loss: 0.1911 - val_accuracy: 0.9763\n",
      "Epoch 59/1000\n",
      "16/23 [===================>..........] - ETA: 0s - loss: 0.3957 - accuracy: 0.8879\n",
      "Epoch 59: saving model to model/keypoint_classifier\\keypoint_classifier.keras\n",
      "23/23 [==============================] - 0s 6ms/step - loss: 0.3997 - accuracy: 0.8858 - val_loss: 0.1892 - val_accuracy: 0.9779\n",
      "Epoch 60/1000\n",
      "15/23 [==================>...........] - ETA: 0s - loss: 0.4027 - accuracy: 0.8865\n",
      "Epoch 60: saving model to model/keypoint_classifier\\keypoint_classifier.keras\n",
      "23/23 [==============================] - 0s 6ms/step - loss: 0.3969 - accuracy: 0.8898 - val_loss: 0.1896 - val_accuracy: 0.9774\n",
      "Epoch 61/1000\n",
      "16/23 [===================>..........] - ETA: 0s - loss: 0.3878 - accuracy: 0.8940\n",
      "Epoch 61: saving model to model/keypoint_classifier\\keypoint_classifier.keras\n",
      "23/23 [==============================] - 0s 6ms/step - loss: 0.3846 - accuracy: 0.8951 - val_loss: 0.1859 - val_accuracy: 0.9795\n",
      "Epoch 62/1000\n",
      "16/23 [===================>..........] - ETA: 0s - loss: 0.4005 - accuracy: 0.8884\n",
      "Epoch 62: saving model to model/keypoint_classifier\\keypoint_classifier.keras\n",
      "23/23 [==============================] - 0s 6ms/step - loss: 0.3963 - accuracy: 0.8902 - val_loss: 0.1884 - val_accuracy: 0.9784\n",
      "Epoch 63/1000\n",
      "17/23 [=====================>........] - ETA: 0s - loss: 0.3764 - accuracy: 0.8984\n",
      "Epoch 63: saving model to model/keypoint_classifier\\keypoint_classifier.keras\n",
      "23/23 [==============================] - 0s 5ms/step - loss: 0.3899 - accuracy: 0.8916 - val_loss: 0.2006 - val_accuracy: 0.9711\n",
      "Epoch 64/1000\n",
      "16/23 [===================>..........] - ETA: 0s - loss: 0.3777 - accuracy: 0.8992\n",
      "Epoch 64: saving model to model/keypoint_classifier\\keypoint_classifier.keras\n",
      "23/23 [==============================] - 0s 6ms/step - loss: 0.3787 - accuracy: 0.8996 - val_loss: 0.1965 - val_accuracy: 0.9747\n",
      "Epoch 65/1000\n",
      "17/23 [=====================>........] - ETA: 0s - loss: 0.3848 - accuracy: 0.8909\n",
      "Epoch 65: saving model to model/keypoint_classifier\\keypoint_classifier.keras\n",
      "23/23 [==============================] - 0s 6ms/step - loss: 0.3793 - accuracy: 0.8940 - val_loss: 0.1904 - val_accuracy: 0.9747\n",
      "Epoch 66/1000\n",
      "18/23 [======================>.......] - ETA: 0s - loss: 0.3993 - accuracy: 0.8841\n",
      "Epoch 66: saving model to model/keypoint_classifier\\keypoint_classifier.keras\n",
      "23/23 [==============================] - 0s 10ms/step - loss: 0.3924 - accuracy: 0.8861 - val_loss: 0.1918 - val_accuracy: 0.9753\n",
      "Epoch 67/1000\n",
      "22/23 [===========================>..] - ETA: 0s - loss: 0.3836 - accuracy: 0.8949\n",
      "Epoch 67: saving model to model/keypoint_classifier\\keypoint_classifier.keras\n",
      "23/23 [==============================] - 0s 7ms/step - loss: 0.3838 - accuracy: 0.8946 - val_loss: 0.1872 - val_accuracy: 0.9737\n",
      "Epoch 68/1000\n",
      "13/23 [===============>..............] - ETA: 0s - loss: 0.3763 - accuracy: 0.8906\n",
      "Epoch 68: saving model to model/keypoint_classifier\\keypoint_classifier.keras\n",
      "23/23 [==============================] - 0s 6ms/step - loss: 0.3732 - accuracy: 0.8965 - val_loss: 0.1828 - val_accuracy: 0.9768\n",
      "Epoch 69/1000\n",
      "11/23 [=============>................] - ETA: 0s - loss: 0.3572 - accuracy: 0.9052\n",
      "Epoch 69: saving model to model/keypoint_classifier\\keypoint_classifier.keras\n",
      "23/23 [==============================] - 0s 7ms/step - loss: 0.3584 - accuracy: 0.9040 - val_loss: 0.1749 - val_accuracy: 0.9795\n",
      "Epoch 70/1000\n",
      "12/23 [==============>...............] - ETA: 0s - loss: 0.3361 - accuracy: 0.9144\n",
      "Epoch 70: saving model to model/keypoint_classifier\\keypoint_classifier.keras\n",
      "23/23 [==============================] - 0s 7ms/step - loss: 0.3568 - accuracy: 0.9061 - val_loss: 0.1714 - val_accuracy: 0.9811\n",
      "Epoch 71/1000\n",
      "14/23 [=================>............] - ETA: 0s - loss: 0.3833 - accuracy: 0.8965\n",
      "Epoch 71: saving model to model/keypoint_classifier\\keypoint_classifier.keras\n",
      "23/23 [==============================] - 0s 7ms/step - loss: 0.3735 - accuracy: 0.9002 - val_loss: 0.1688 - val_accuracy: 0.9826\n",
      "Epoch 72/1000\n",
      "21/23 [==========================>...] - ETA: 0s - loss: 0.3609 - accuracy: 0.9009\n",
      "Epoch 72: saving model to model/keypoint_classifier\\keypoint_classifier.keras\n",
      "23/23 [==============================] - 0s 8ms/step - loss: 0.3601 - accuracy: 0.9021 - val_loss: 0.1821 - val_accuracy: 0.9779\n",
      "Epoch 73/1000\n",
      "23/23 [==============================] - ETA: 0s - loss: 0.3602 - accuracy: 0.8967\n",
      "Epoch 73: saving model to model/keypoint_classifier\\keypoint_classifier.keras\n",
      "23/23 [==============================] - 0s 10ms/step - loss: 0.3602 - accuracy: 0.8967 - val_loss: 0.1847 - val_accuracy: 0.9747\n",
      "Epoch 74/1000\n",
      "23/23 [==============================] - ETA: 0s - loss: 0.3683 - accuracy: 0.9026\n",
      "Epoch 74: saving model to model/keypoint_classifier\\keypoint_classifier.keras\n",
      "23/23 [==============================] - 0s 8ms/step - loss: 0.3683 - accuracy: 0.9026 - val_loss: 0.1780 - val_accuracy: 0.9774\n",
      "Epoch 75/1000\n",
      "12/23 [==============>...............] - ETA: 0s - loss: 0.3384 - accuracy: 0.9121\n",
      "Epoch 75: saving model to model/keypoint_classifier\\keypoint_classifier.keras\n",
      "23/23 [==============================] - 0s 7ms/step - loss: 0.3438 - accuracy: 0.9111 - val_loss: 0.1755 - val_accuracy: 0.9789\n",
      "Epoch 76/1000\n",
      "13/23 [===============>..............] - ETA: 0s - loss: 0.3554 - accuracy: 0.8993\n",
      "Epoch 76: saving model to model/keypoint_classifier\\keypoint_classifier.keras\n",
      "23/23 [==============================] - 0s 6ms/step - loss: 0.3597 - accuracy: 0.8986 - val_loss: 0.1831 - val_accuracy: 0.9742\n",
      "Epoch 77/1000\n",
      "14/23 [=================>............] - ETA: 0s - loss: 0.3646 - accuracy: 0.8990\n",
      "Epoch 77: saving model to model/keypoint_classifier\\keypoint_classifier.keras\n",
      "23/23 [==============================] - 0s 6ms/step - loss: 0.3594 - accuracy: 0.9012 - val_loss: 0.1738 - val_accuracy: 0.9800\n",
      "Epoch 78/1000\n",
      "12/23 [==============>...............] - ETA: 0s - loss: 0.3611 - accuracy: 0.8984\n",
      "Epoch 78: saving model to model/keypoint_classifier\\keypoint_classifier.keras\n",
      "23/23 [==============================] - 0s 7ms/step - loss: 0.3512 - accuracy: 0.9051 - val_loss: 0.1851 - val_accuracy: 0.9747\n",
      "Epoch 79/1000\n",
      "22/23 [===========================>..] - ETA: 0s - loss: 0.3469 - accuracy: 0.9031\n",
      "Epoch 79: saving model to model/keypoint_classifier\\keypoint_classifier.keras\n",
      "23/23 [==============================] - 0s 8ms/step - loss: 0.3475 - accuracy: 0.9030 - val_loss: 0.1835 - val_accuracy: 0.9747\n",
      "Epoch 80/1000\n",
      "14/23 [=================>............] - ETA: 0s - loss: 0.3272 - accuracy: 0.9090\n",
      "Epoch 80: saving model to model/keypoint_classifier\\keypoint_classifier.keras\n",
      "23/23 [==============================] - 0s 7ms/step - loss: 0.3456 - accuracy: 0.9047 - val_loss: 0.1727 - val_accuracy: 0.9774\n",
      "Epoch 81/1000\n",
      "14/23 [=================>............] - ETA: 0s - loss: 0.3565 - accuracy: 0.8990\n",
      "Epoch 81: saving model to model/keypoint_classifier\\keypoint_classifier.keras\n",
      "23/23 [==============================] - 0s 6ms/step - loss: 0.3533 - accuracy: 0.9014 - val_loss: 0.1790 - val_accuracy: 0.9747\n",
      "Epoch 82/1000\n",
      "13/23 [===============>..............] - ETA: 0s - loss: 0.3444 - accuracy: 0.9059\n",
      "Epoch 82: saving model to model/keypoint_classifier\\keypoint_classifier.keras\n",
      "23/23 [==============================] - 0s 8ms/step - loss: 0.3557 - accuracy: 0.8993 - val_loss: 0.1597 - val_accuracy: 0.9868\n",
      "Epoch 83/1000\n",
      "13/23 [===============>..............] - ETA: 0s - loss: 0.3315 - accuracy: 0.9132\n",
      "Epoch 83: saving model to model/keypoint_classifier\\keypoint_classifier.keras\n",
      "23/23 [==============================] - 0s 8ms/step - loss: 0.3286 - accuracy: 0.9132 - val_loss: 0.1705 - val_accuracy: 0.9779\n",
      "Epoch 84/1000\n",
      "17/23 [=====================>........] - ETA: 0s - loss: 0.3353 - accuracy: 0.9125\n",
      "Epoch 84: saving model to model/keypoint_classifier\\keypoint_classifier.keras\n",
      "23/23 [==============================] - 0s 11ms/step - loss: 0.3340 - accuracy: 0.9121 - val_loss: 0.1701 - val_accuracy: 0.9811\n",
      "Epoch 85/1000\n",
      "17/23 [=====================>........] - ETA: 0s - loss: 0.3549 - accuracy: 0.9030\n",
      "Epoch 85: saving model to model/keypoint_classifier\\keypoint_classifier.keras\n",
      "23/23 [==============================] - 0s 10ms/step - loss: 0.3429 - accuracy: 0.9093 - val_loss: 0.1635 - val_accuracy: 0.9821\n",
      "Epoch 86/1000\n",
      "15/23 [==================>...........] - ETA: 0s - loss: 0.3464 - accuracy: 0.9023\n",
      "Epoch 86: saving model to model/keypoint_classifier\\keypoint_classifier.keras\n",
      "23/23 [==============================] - 0s 6ms/step - loss: 0.3592 - accuracy: 0.8993 - val_loss: 0.1924 - val_accuracy: 0.9695\n",
      "Epoch 87/1000\n",
      "15/23 [==================>...........] - ETA: 0s - loss: 0.3527 - accuracy: 0.9039\n",
      "Epoch 87: saving model to model/keypoint_classifier\\keypoint_classifier.keras\n",
      "23/23 [==============================] - 0s 6ms/step - loss: 0.3488 - accuracy: 0.9060 - val_loss: 0.1638 - val_accuracy: 0.9821\n",
      "Epoch 88/1000\n",
      "16/23 [===================>..........] - ETA: 0s - loss: 0.3504 - accuracy: 0.9075\n",
      "Epoch 88: saving model to model/keypoint_classifier\\keypoint_classifier.keras\n",
      "23/23 [==============================] - 0s 6ms/step - loss: 0.3580 - accuracy: 0.9047 - val_loss: 0.1629 - val_accuracy: 0.9837\n",
      "Epoch 89/1000\n",
      "16/23 [===================>..........] - ETA: 0s - loss: 0.3273 - accuracy: 0.9094\n",
      "Epoch 89: saving model to model/keypoint_classifier\\keypoint_classifier.keras\n",
      "23/23 [==============================] - 0s 6ms/step - loss: 0.3348 - accuracy: 0.9104 - val_loss: 0.1638 - val_accuracy: 0.9811\n",
      "Epoch 90/1000\n",
      "23/23 [==============================] - ETA: 0s - loss: 0.3275 - accuracy: 0.9104\n",
      "Epoch 90: saving model to model/keypoint_classifier\\keypoint_classifier.keras\n",
      "23/23 [==============================] - 0s 8ms/step - loss: 0.3275 - accuracy: 0.9104 - val_loss: 0.1661 - val_accuracy: 0.9800\n",
      "Epoch 91/1000\n",
      "13/23 [===============>..............] - ETA: 0s - loss: 0.3242 - accuracy: 0.9096\n",
      "Epoch 91: saving model to model/keypoint_classifier\\keypoint_classifier.keras\n",
      "23/23 [==============================] - 0s 7ms/step - loss: 0.3308 - accuracy: 0.9093 - val_loss: 0.1692 - val_accuracy: 0.9779\n",
      "Epoch 92/1000\n",
      "21/23 [==========================>...] - ETA: 0s - loss: 0.3336 - accuracy: 0.9087\n",
      "Epoch 92: saving model to model/keypoint_classifier\\keypoint_classifier.keras\n",
      "23/23 [==============================] - 0s 10ms/step - loss: 0.3310 - accuracy: 0.9104 - val_loss: 0.1655 - val_accuracy: 0.9789\n",
      "Epoch 93/1000\n",
      "21/23 [==========================>...] - ETA: 0s - loss: 0.3236 - accuracy: 0.9176\n",
      "Epoch 93: saving model to model/keypoint_classifier\\keypoint_classifier.keras\n",
      "23/23 [==============================] - 0s 8ms/step - loss: 0.3240 - accuracy: 0.9168 - val_loss: 0.1566 - val_accuracy: 0.9858\n",
      "Epoch 94/1000\n",
      "21/23 [==========================>...] - ETA: 0s - loss: 0.3375 - accuracy: 0.9066\n",
      "Epoch 94: saving model to model/keypoint_classifier\\keypoint_classifier.keras\n",
      "23/23 [==============================] - 0s 9ms/step - loss: 0.3339 - accuracy: 0.9077 - val_loss: 0.1768 - val_accuracy: 0.9721\n",
      "Epoch 95/1000\n",
      "21/23 [==========================>...] - ETA: 0s - loss: 0.3247 - accuracy: 0.9142\n",
      "Epoch 95: saving model to model/keypoint_classifier\\keypoint_classifier.keras\n",
      "23/23 [==============================] - 0s 9ms/step - loss: 0.3232 - accuracy: 0.9140 - val_loss: 0.1750 - val_accuracy: 0.9726\n",
      "Epoch 96/1000\n",
      "13/23 [===============>..............] - ETA: 0s - loss: 0.3310 - accuracy: 0.9075\n",
      "Epoch 96: saving model to model/keypoint_classifier\\keypoint_classifier.keras\n",
      "23/23 [==============================] - 0s 8ms/step - loss: 0.3394 - accuracy: 0.9098 - val_loss: 0.1631 - val_accuracy: 0.9816\n",
      "Epoch 97/1000\n",
      "20/23 [=========================>....] - ETA: 0s - loss: 0.3227 - accuracy: 0.9104\n",
      "Epoch 97: saving model to model/keypoint_classifier\\keypoint_classifier.keras\n",
      "23/23 [==============================] - 0s 9ms/step - loss: 0.3224 - accuracy: 0.9116 - val_loss: 0.1791 - val_accuracy: 0.9747\n",
      "Epoch 98/1000\n",
      "12/23 [==============>...............] - ETA: 0s - loss: 0.3450 - accuracy: 0.9001\n",
      "Epoch 98: saving model to model/keypoint_classifier\\keypoint_classifier.keras\n",
      "23/23 [==============================] - 0s 7ms/step - loss: 0.3313 - accuracy: 0.9088 - val_loss: 0.1772 - val_accuracy: 0.9737\n",
      "Epoch 99/1000\n",
      "12/23 [==============>...............] - ETA: 0s - loss: 0.3148 - accuracy: 0.9281\n",
      "Epoch 99: saving model to model/keypoint_classifier\\keypoint_classifier.keras\n",
      "23/23 [==============================] - 0s 7ms/step - loss: 0.3187 - accuracy: 0.9196 - val_loss: 0.1531 - val_accuracy: 0.9863\n",
      "Epoch 100/1000\n",
      "12/23 [==============>...............] - ETA: 0s - loss: 0.3339 - accuracy: 0.9092\n",
      "Epoch 100: saving model to model/keypoint_classifier\\keypoint_classifier.keras\n",
      "23/23 [==============================] - 0s 7ms/step - loss: 0.3324 - accuracy: 0.9095 - val_loss: 0.1622 - val_accuracy: 0.9800\n",
      "Epoch 101/1000\n",
      "13/23 [===============>..............] - ETA: 0s - loss: 0.3112 - accuracy: 0.9195\n",
      "Epoch 101: saving model to model/keypoint_classifier\\keypoint_classifier.keras\n",
      "23/23 [==============================] - 0s 7ms/step - loss: 0.3173 - accuracy: 0.9175 - val_loss: 0.1607 - val_accuracy: 0.9800\n",
      "Epoch 102/1000\n",
      "17/23 [=====================>........] - ETA: 0s - loss: 0.3201 - accuracy: 0.9049\n",
      "Epoch 102: saving model to model/keypoint_classifier\\keypoint_classifier.keras\n",
      "23/23 [==============================] - 0s 9ms/step - loss: 0.3256 - accuracy: 0.9047 - val_loss: 0.1590 - val_accuracy: 0.9826\n",
      "Epoch 103/1000\n",
      "14/23 [=================>............] - ETA: 0s - loss: 0.3244 - accuracy: 0.9110\n",
      "Epoch 103: saving model to model/keypoint_classifier\\keypoint_classifier.keras\n",
      "23/23 [==============================] - 0s 6ms/step - loss: 0.3261 - accuracy: 0.9109 - val_loss: 0.1715 - val_accuracy: 0.9779\n",
      "Epoch 104/1000\n",
      "14/23 [=================>............] - ETA: 0s - loss: 0.3243 - accuracy: 0.9171\n",
      "Epoch 104: saving model to model/keypoint_classifier\\keypoint_classifier.keras\n",
      "23/23 [==============================] - 0s 6ms/step - loss: 0.3154 - accuracy: 0.9163 - val_loss: 0.1678 - val_accuracy: 0.9768\n",
      "Epoch 105/1000\n",
      "14/23 [=================>............] - ETA: 0s - loss: 0.3161 - accuracy: 0.9129\n",
      "Epoch 105: saving model to model/keypoint_classifier\\keypoint_classifier.keras\n",
      "23/23 [==============================] - 0s 7ms/step - loss: 0.3157 - accuracy: 0.9132 - val_loss: 0.1542 - val_accuracy: 0.9826\n",
      "Epoch 106/1000\n",
      "13/23 [===============>..............] - ETA: 0s - loss: 0.3289 - accuracy: 0.9087\n",
      "Epoch 106: saving model to model/keypoint_classifier\\keypoint_classifier.keras\n",
      "23/23 [==============================] - 0s 6ms/step - loss: 0.3288 - accuracy: 0.9091 - val_loss: 0.1610 - val_accuracy: 0.9821\n",
      "Epoch 107/1000\n",
      "16/23 [===================>..........] - ETA: 0s - loss: 0.3042 - accuracy: 0.9131\n",
      "Epoch 107: saving model to model/keypoint_classifier\\keypoint_classifier.keras\n",
      "23/23 [==============================] - 0s 6ms/step - loss: 0.3030 - accuracy: 0.9144 - val_loss: 0.1465 - val_accuracy: 0.9868\n",
      "Epoch 108/1000\n",
      "14/23 [=================>............] - ETA: 0s - loss: 0.3283 - accuracy: 0.9110\n",
      "Epoch 108: saving model to model/keypoint_classifier\\keypoint_classifier.keras\n",
      "23/23 [==============================] - 0s 6ms/step - loss: 0.3174 - accuracy: 0.9139 - val_loss: 0.1541 - val_accuracy: 0.9826\n",
      "Epoch 109/1000\n",
      "13/23 [===============>..............] - ETA: 0s - loss: 0.3155 - accuracy: 0.9156\n",
      "Epoch 109: saving model to model/keypoint_classifier\\keypoint_classifier.keras\n",
      "23/23 [==============================] - 0s 8ms/step - loss: 0.3235 - accuracy: 0.9149 - val_loss: 0.1532 - val_accuracy: 0.9821\n",
      "Epoch 110/1000\n",
      "14/23 [=================>............] - ETA: 0s - loss: 0.3175 - accuracy: 0.9174\n",
      "Epoch 110: saving model to model/keypoint_classifier\\keypoint_classifier.keras\n",
      "23/23 [==============================] - 0s 6ms/step - loss: 0.3168 - accuracy: 0.9182 - val_loss: 0.1608 - val_accuracy: 0.9795\n",
      "Epoch 111/1000\n",
      "14/23 [=================>............] - ETA: 0s - loss: 0.3078 - accuracy: 0.9171\n",
      "Epoch 111: saving model to model/keypoint_classifier\\keypoint_classifier.keras\n",
      "23/23 [==============================] - 0s 6ms/step - loss: 0.3048 - accuracy: 0.9181 - val_loss: 0.1514 - val_accuracy: 0.9847\n",
      "Epoch 112/1000\n",
      "20/23 [=========================>....] - ETA: 0s - loss: 0.3098 - accuracy: 0.9162\n",
      "Epoch 112: saving model to model/keypoint_classifier\\keypoint_classifier.keras\n",
      "23/23 [==============================] - 0s 9ms/step - loss: 0.3078 - accuracy: 0.9168 - val_loss: 0.1564 - val_accuracy: 0.9805\n",
      "Epoch 113/1000\n",
      "23/23 [==============================] - ETA: 0s - loss: 0.2964 - accuracy: 0.9209\n",
      "Epoch 113: saving model to model/keypoint_classifier\\keypoint_classifier.keras\n",
      "23/23 [==============================] - 0s 8ms/step - loss: 0.2964 - accuracy: 0.9209 - val_loss: 0.1475 - val_accuracy: 0.9853\n",
      "Epoch 114/1000\n",
      "14/23 [=================>............] - ETA: 0s - loss: 0.3110 - accuracy: 0.9180\n",
      "Epoch 114: saving model to model/keypoint_classifier\\keypoint_classifier.keras\n",
      "23/23 [==============================] - 0s 6ms/step - loss: 0.3060 - accuracy: 0.9184 - val_loss: 0.1633 - val_accuracy: 0.9763\n",
      "Epoch 115/1000\n",
      "13/23 [===============>..............] - ETA: 0s - loss: 0.2992 - accuracy: 0.9177\n",
      "Epoch 115: saving model to model/keypoint_classifier\\keypoint_classifier.keras\n",
      "23/23 [==============================] - 0s 7ms/step - loss: 0.3014 - accuracy: 0.9195 - val_loss: 0.1572 - val_accuracy: 0.9816\n",
      "Epoch 116/1000\n",
      "14/23 [=================>............] - ETA: 0s - loss: 0.3091 - accuracy: 0.9076\n",
      "Epoch 116: saving model to model/keypoint_classifier\\keypoint_classifier.keras\n",
      "23/23 [==============================] - 0s 6ms/step - loss: 0.3046 - accuracy: 0.9109 - val_loss: 0.1561 - val_accuracy: 0.9821\n",
      "Epoch 117/1000\n",
      "14/23 [=================>............] - ETA: 0s - loss: 0.3190 - accuracy: 0.9149\n",
      "Epoch 117: saving model to model/keypoint_classifier\\keypoint_classifier.keras\n",
      "23/23 [==============================] - 0s 7ms/step - loss: 0.3131 - accuracy: 0.9165 - val_loss: 0.1632 - val_accuracy: 0.9768\n",
      "Epoch 118/1000\n",
      "14/23 [=================>............] - ETA: 0s - loss: 0.3003 - accuracy: 0.9196\n",
      "Epoch 118: saving model to model/keypoint_classifier\\keypoint_classifier.keras\n",
      "23/23 [==============================] - 0s 7ms/step - loss: 0.3029 - accuracy: 0.9189 - val_loss: 0.1513 - val_accuracy: 0.9863\n",
      "Epoch 119/1000\n",
      "13/23 [===============>..............] - ETA: 0s - loss: 0.3059 - accuracy: 0.9180\n",
      "Epoch 119: saving model to model/keypoint_classifier\\keypoint_classifier.keras\n",
      "23/23 [==============================] - 0s 7ms/step - loss: 0.3031 - accuracy: 0.9188 - val_loss: 0.1506 - val_accuracy: 0.9842\n",
      "Epoch 120/1000\n",
      "14/23 [=================>............] - ETA: 0s - loss: 0.3105 - accuracy: 0.9196\n",
      "Epoch 120: saving model to model/keypoint_classifier\\keypoint_classifier.keras\n",
      "23/23 [==============================] - 0s 7ms/step - loss: 0.3041 - accuracy: 0.9179 - val_loss: 0.1531 - val_accuracy: 0.9805\n",
      "Epoch 121/1000\n",
      "14/23 [=================>............] - ETA: 0s - loss: 0.2915 - accuracy: 0.9205\n",
      "Epoch 121: saving model to model/keypoint_classifier\\keypoint_classifier.keras\n",
      "23/23 [==============================] - 0s 7ms/step - loss: 0.2916 - accuracy: 0.9223 - val_loss: 0.1564 - val_accuracy: 0.9816\n",
      "Epoch 122/1000\n",
      "14/23 [=================>............] - ETA: 0s - loss: 0.2872 - accuracy: 0.9266\n",
      "Epoch 122: saving model to model/keypoint_classifier\\keypoint_classifier.keras\n",
      "23/23 [==============================] - 0s 6ms/step - loss: 0.2968 - accuracy: 0.9221 - val_loss: 0.1545 - val_accuracy: 0.9816\n",
      "Epoch 123/1000\n",
      "14/23 [=================>............] - ETA: 0s - loss: 0.3191 - accuracy: 0.9143\n",
      "Epoch 123: saving model to model/keypoint_classifier\\keypoint_classifier.keras\n",
      "23/23 [==============================] - 0s 6ms/step - loss: 0.3088 - accuracy: 0.9174 - val_loss: 0.1560 - val_accuracy: 0.9800\n",
      "Epoch 124/1000\n",
      "15/23 [==================>...........] - ETA: 0s - loss: 0.3003 - accuracy: 0.9221\n",
      "Epoch 124: saving model to model/keypoint_classifier\\keypoint_classifier.keras\n",
      "23/23 [==============================] - 0s 8ms/step - loss: 0.2944 - accuracy: 0.9239 - val_loss: 0.1515 - val_accuracy: 0.9816\n",
      "Epoch 125/1000\n",
      "23/23 [==============================] - ETA: 0s - loss: 0.2864 - accuracy: 0.9240\n",
      "Epoch 125: saving model to model/keypoint_classifier\\keypoint_classifier.keras\n",
      "23/23 [==============================] - 0s 8ms/step - loss: 0.2864 - accuracy: 0.9240 - val_loss: 0.1680 - val_accuracy: 0.9700\n",
      "Epoch 126/1000\n",
      "14/23 [=================>............] - ETA: 0s - loss: 0.3055 - accuracy: 0.9149\n",
      "Epoch 126: saving model to model/keypoint_classifier\\keypoint_classifier.keras\n",
      "23/23 [==============================] - 0s 6ms/step - loss: 0.3022 - accuracy: 0.9184 - val_loss: 0.1623 - val_accuracy: 0.9747\n",
      "Epoch 127/1000\n",
      "12/23 [==============>...............] - ETA: 0s - loss: 0.2867 - accuracy: 0.9235\n",
      "Epoch 127: saving model to model/keypoint_classifier\\keypoint_classifier.keras\n",
      "23/23 [==============================] - 0s 7ms/step - loss: 0.2900 - accuracy: 0.9219 - val_loss: 0.1500 - val_accuracy: 0.9816\n",
      "Epoch 127: early stopping\n"
     ]
    }
   ],
   "source": [
    "# Entrenar el modelo y guardar la historia\n",
    "history = model.fit(\n",
    "    X_train,\n",
    "    y_train,\n",
    "    epochs=1000,\n",
    "    batch_size=256,\n",
    "    validation_data=(X_test, y_test),\n",
    "    callbacks=[cp_callback, es_callback]\n",
    ")"
   ]
  },
  {
   "cell_type": "code",
   "execution_count": 30,
   "metadata": {},
   "outputs": [
    {
     "data": {
      "image/png": "[encoded data removed]",
      "text/plain": [
       "<Figure size 800x800 with 2 Axes>"
      ]
     },
     "metadata": {},
     "output_type": "display_data"
    }
   ],
   "source": [
    "import matplotlib.pyplot as plt\n",
    "\n",
    "# Graficar la precisión\n",
    "plt.figure(figsize=(8, 8))\n",
    "plt.subplot(2, 1, 1)\n",
    "plt.plot(history.history['accuracy'], label='Precisión de entrenamiento')\n",
    "plt.plot(history.history['val_accuracy'], label='Precisión de validación')\n",
    "plt.legend(loc='lower right')\n",
    "plt.title('Precisión de entrenamiento y validación')\n",
    "\n",
    "# Graficar la pérdida\n",
    "plt.subplot(2, 1, 2)\n",
    "plt.plot(history.history['loss'], label='Pérdida de entrenamiento')\n",
    "plt.plot(history.history['val_loss'], label='Pérdida de validación')\n",
    "plt.legend(loc='upper right')\n",
    "plt.title('Pérdida de entrenamiento y validación')\n",
    "plt.xlabel('Época')\n",
    "plt.show()"
   ]
  },
  {
   "cell_type": "code",
   "execution_count": 31,
   "metadata": {},
   "outputs": [
    {
     "name": "stdout",
     "output_type": "stream",
     "text": [
      "15/15 [==============================] - 0s 5ms/step - loss: 0.1500 - accuracy: 0.9816\n"
     ]
    }
   ],
   "source": [
    "# Evaluación del modelo\n",
    "val_loss, val_acc = model.evaluate(X_test, y_test, batch_size=128)"
   ]
  },
  {
   "cell_type": "code",
   "execution_count": 32,
   "metadata": {},
   "outputs": [],
   "source": [
    "# Carga del modelo guardado\n",
    "model = tf.keras.models.load_model(model_save_path)"
   ]
  },
  {
   "cell_type": "code",
   "execution_count": 33,
   "metadata": {},
   "outputs": [
    {
     "name": "stdout",
     "output_type": "stream",
     "text": [
      "1/1 [==============================] - 0s 44ms/step\n",
      "[3.1302105e-05 7.4056581e-05 1.4596860e-04 8.4935566e-03 9.9125504e-01]\n",
      "4\n"
     ]
    }
   ],
   "source": [
    "# Prueba de inferencia\n",
    "predict_result = model.predict(np.array([X_test[0]]))\n",
    "print(np.squeeze(predict_result))\n",
    "print(np.argmax(np.squeeze(predict_result)))"
   ]
  },
  {
   "cell_type": "markdown",
   "metadata": {},
   "source": [
    "# Matriz de confusión"
   ]
  },
  {
   "cell_type": "code",
   "execution_count": 34,
   "metadata": {},
   "outputs": [
    {
     "name": "stdout",
     "output_type": "stream",
     "text": [
      "60/60 [==============================] - 0s 1ms/step\n"
     ]
    },
    {
     "data": {
      "image/png": "[encoded data removed]",
      "text/plain": [
       "<Figure size 700x600 with 2 Axes>"
      ]
     },
     "metadata": {},
     "output_type": "display_data"
    },
    {
     "name": "stdout",
     "output_type": "stream",
     "text": [
      "Classification Report\n",
      "              precision    recall  f1-score   support\n",
      "\n",
      "           0       0.98      1.00      0.99       411\n",
      "           1       0.99      0.97      0.98       390\n",
      "           2       0.97      0.98      0.97       321\n",
      "           3       0.99      0.96      0.98       370\n",
      "           4       0.97      1.00      0.98       408\n",
      "\n",
      "    accuracy                           0.98      1900\n",
      "   macro avg       0.98      0.98      0.98      1900\n",
      "weighted avg       0.98      0.98      0.98      1900\n",
      "\n"
     ]
    }
   ],
   "source": [
    "import pandas as pd\n",
    "import seaborn as sns\n",
    "import matplotlib.pyplot as plt\n",
    "from sklearn.metrics import confusion_matrix, classification_report\n",
    "\n",
    "def print_confusion_matrix(y_true, y_pred, labels_name, report=True):\n",
    "    labels = sorted(list(set(y_true)))\n",
    "    cmx_data = confusion_matrix(y_true, y_pred, labels=range(len(labels_name)))\n",
    "    \n",
    "    df_cmx = pd.DataFrame(cmx_data, index=labels_name, columns=labels_name)\n",
    " \n",
    "    fig, ax = plt.subplots(figsize=(7, 6))\n",
    "    sns.heatmap(df_cmx, annot=True, fmt='g' ,square=False)\n",
    "    ax.set_ylim(len(set(y_true)), 0)\n",
    "    plt.show()\n",
    "    \n",
    "    if report:\n",
    "        print('Classification Report')\n",
    "        print(classification_report(y_test, y_pred))\n",
    "\n",
    "Y_pred = model.predict(X_test)\n",
    "y_pred = np.argmax(Y_pred, axis=1)\n",
    "\n",
    "print_confusion_matrix(y_test, y_pred, labels_name)"
   ]
  },
  {
   "cell_type": "markdown",
   "metadata": {},
   "source": [
    "# Conversión a modelo para Tensorflow-Lite"
   ]
  },
  {
   "cell_type": "code",
   "execution_count": 35,
   "metadata": {},
   "outputs": [],
   "source": [
    "# Guardar como modelo exclusivamente para inferencia\n",
    "model.save(model_save_path, include_optimizer=False)"
   ]
  },
  {
   "cell_type": "code",
   "execution_count": 36,
   "metadata": {},
   "outputs": [
    {
     "name": "stdout",
     "output_type": "stream",
     "text": [
      "INFO:tensorflow:Assets written to: C:\\Users\\GAMA\\AppData\\Local\\Temp\\tmp5q0qvgn3\\assets\n"
     ]
    },
    {
     "data": {
      "text/plain": [
       "10232"
      ]
     },
     "execution_count": 36,
     "metadata": {},
     "output_type": "execute_result"
    }
   ],
   "source": [
    "# Modelo de conversión (cuantificación)\n",
    "tflite_save_path = 'model/keypoint_classifier/keypoint_classifier.tflite'\n",
    "\n",
    "converter = tf.lite.TFLiteConverter.from_keras_model(model)\n",
    "converter.optimizations = [tf.lite.Optimize.DEFAULT]\n",
    "tflite_quantized_model = converter.convert()\n",
    "\n",
    "open(tflite_save_path, 'wb').write(tflite_quantized_model)"
   ]
  },
  {
   "cell_type": "markdown",
   "metadata": {},
   "source": [
    "# Prueba de inferencia"
   ]
  },
  {
   "cell_type": "code",
   "execution_count": 37,
   "metadata": {},
   "outputs": [],
   "source": [
    "interpreter = tf.lite.Interpreter(model_path=tflite_save_path)\n",
    "interpreter.allocate_tensors()"
   ]
  },
  {
   "cell_type": "code",
   "execution_count": 38,
   "metadata": {},
   "outputs": [],
   "source": [
    "# Obtener tensores de entrada y salida\n",
    "input_details = interpreter.get_input_details()\n",
    "output_details = interpreter.get_output_details()"
   ]
  },
  {
   "cell_type": "code",
   "execution_count": 39,
   "metadata": {},
   "outputs": [],
   "source": [
    "interpreter.set_tensor(input_details[0]['index'], np.array([X_test[0]]))"
   ]
  },
  {
   "cell_type": "code",
   "execution_count": 49,
   "metadata": {
    "scrolled": true
   },
   "outputs": [
    {
     "name": "stdout",
     "output_type": "stream",
     "text": [
      "CPU times: total: 0 ns\n",
      "Wall time: 0 ns\n"
     ]
    }
   ],
   "source": [
    "%%time\n",
    "# Realizar inferencia\n",
    "interpreter.invoke()\n",
    "tflite_results = interpreter.get_tensor(output_details[0]['index'])"
   ]
  },
  {
   "cell_type": "code",
   "execution_count": 50,
   "metadata": {},
   "outputs": [
    {
     "name": "stdout",
     "output_type": "stream",
     "text": [
      "[3.2428481e-05 7.5422431e-05 1.4996868e-04 8.9517981e-03 9.9079025e-01]\n",
      "4\n"
     ]
    }
   ],
   "source": [
    "print(np.squeeze(tflite_results))\n",
    "print(np.argmax(np.squeeze(tflite_results)))"
   ]
  }
 ],
 "metadata": {
  "kernelspec": {
   "display_name": "Python 3",
   "language": "python",
   "name": "python3"
  },
  "language_info": {
   "codemirror_mode": {
    "name": "ipython",
    "version": 3
   },
   "file_extension": ".py",
   "mimetype": "text/x-python",
   "name": "python",
   "nbconvert_exporter": "python",
   "pygments_lexer": "ipython3",
   "version": "3.10.11"
  }
 },
 "nbformat": 4,
 "nbformat_minor": 4
}
