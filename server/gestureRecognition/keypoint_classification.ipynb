{
 "cells": [
  {
   "cell_type": "code",
   "execution_count": 44,
   "metadata": {},
   "outputs": [],
   "source": [
    "import csv\n",
    "\n",
    "import numpy as np\n",
    "import tensorflow as tf\n",
    "from sklearn.model_selection import train_test_split\n",
    "import keras\n",
    "\n",
    "RANDOM_SEED = 42"
   ]
  },
  {
   "cell_type": "code",
   "execution_count": 45,
   "metadata": {},
   "outputs": [
    {
     "name": "stdout",
     "output_type": "stream",
     "text": [
      "GPUs Available:  [PhysicalDevice(name='/physical_device:GPU:0', device_type='GPU')]\n"
     ]
    }
   ],
   "source": [
    "# Para la compatibilidad de GPU y tensorflow uso\n",
    "# tensorflow==2.10.1\n",
    "# cuda = 11.2\n",
    "# cudnn = 8.1.1\n",
    "# python = 3.10.9\n",
    "# https://www.tensorflow.org/install/source_windows?#gpu\n",
    "gpus = tf.config.experimental.list_physical_devices('GPU')\n",
    "if gpus:\n",
    "  print(\"GPUs Available: \", gpus)\n",
    "  try:\n",
    "    for gpu in gpus:\n",
    "      tf.config.experimental.set_memory_growth(gpu, True)\n",
    "  except RuntimeError as e:\n",
    "      print(e)"
   ]
  },
  {
   "cell_type": "markdown",
   "metadata": {},
   "source": [
    "# Especificación de cada ruta"
   ]
  },
  {
   "cell_type": "code",
   "execution_count": 46,
   "metadata": {},
   "outputs": [],
   "source": [
    "dataset = 'model/keypoint_classifier/keypoint.csv'\n",
    "model_save_path = 'model/keypoint_classifier/keypoint_classifier.keras'\n",
    "labels = 'model/keypoint_classifier/keypoint_classifier_label.csv'"
   ]
  },
  {
   "cell_type": "markdown",
   "metadata": {},
   "source": [
    "# Configuración del número de clasificaciones"
   ]
  },
  {
   "cell_type": "code",
   "execution_count": 47,
   "metadata": {},
   "outputs": [
    {
     "name": "stdout",
     "output_type": "stream",
     "text": [
      "['Open' 'Close' 'Pointer' 'mouse_up' 'mouse_down' 'mouse_right'\n",
      " 'mouse_left' 'Ok' 'palma']\n"
     ]
    }
   ],
   "source": [
    "# Leer el contenido del archivo, eliminando el BOM si está presente\n",
    "with open(labels, 'r', encoding='utf-8-sig') as f:\n",
    "    content = f.read().splitlines()\n",
    "\n",
    "# Convertir el contenido a un array de NumPy\n",
    "labels_name = np.array(content, dtype=str)\n",
    "\n",
    "print(labels_name)\n",
    "NUM_CLASSES = len(labels_name)"
   ]
  },
  {
   "cell_type": "markdown",
   "metadata": {},
   "source": [
    "# Carga de datos de entrenamiento"
   ]
  },
  {
   "cell_type": "code",
   "execution_count": 48,
   "metadata": {},
   "outputs": [],
   "source": [
    "X_dataset = np.loadtxt(dataset, delimiter=',', dtype='float32', usecols=list(range(1, (21 * 2) + 1)))"
   ]
  },
  {
   "cell_type": "code",
   "execution_count": 49,
   "metadata": {},
   "outputs": [],
   "source": [
    "y_dataset = np.loadtxt(dataset, delimiter=',', dtype='int32', usecols=(0))"
   ]
  },
  {
   "cell_type": "code",
   "execution_count": 50,
   "metadata": {},
   "outputs": [],
   "source": [
    "X_train, X_test, y_train, y_test = train_test_split(X_dataset, y_dataset, train_size=0.60, random_state=RANDOM_SEED)"
   ]
  },
  {
   "cell_type": "code",
   "execution_count": 51,
   "metadata": {},
   "outputs": [],
   "source": [
    "X_test, X_val, y_test, y_val = train_test_split(X_test, y_test, train_size=0.5, random_state=RANDOM_SEED)"
   ]
  },
  {
   "cell_type": "markdown",
   "metadata": {},
   "source": [
    "# Construcción del modelo"
   ]
  },
  {
   "cell_type": "code",
   "execution_count": 52,
   "metadata": {},
   "outputs": [],
   "source": [
    "from keras.regularizers import l2\n",
    "model = keras.models.Sequential([\n",
    "    keras.layers.Input((21 * 2, )),\n",
    "    keras.layers.Dropout(0.2),\n",
    "    keras.layers.Dense(64, activation='relu', kernel_regularizer=l2(0.001)),\n",
    "    keras.layers.Dropout(0.4),\n",
    "    keras.layers.Dense(32, activation='relu', kernel_regularizer=l2(0.001)),\n",
    "    keras.layers.Dropout(0.4),\n",
    "    keras.layers.Dense(16, activation='relu'),\n",
    "    keras.layers.Dense(NUM_CLASSES, activation='softmax')\n",
    "])"
   ]
  },
  {
   "cell_type": "code",
   "execution_count": 53,
   "metadata": {},
   "outputs": [
    {
     "name": "stdout",
     "output_type": "stream",
     "text": [
      "Model: \"sequential_3\"\n",
      "_________________________________________________________________\n",
      " Layer (type)                Output Shape              Param #   \n",
      "=================================================================\n",
      " dropout_9 (Dropout)         (None, 42)                0         \n",
      "                                                                 \n",
      " dense_12 (Dense)            (None, 64)                2752      \n",
      "                                                                 \n",
      " dropout_10 (Dropout)        (None, 64)                0         \n",
      "                                                                 \n",
      " dense_13 (Dense)            (None, 32)                2080      \n",
      "                                                                 \n",
      " dropout_11 (Dropout)        (None, 32)                0         \n",
      "                                                                 \n",
      " dense_14 (Dense)            (None, 16)                528       \n",
      "                                                                 \n",
      " dense_15 (Dense)            (None, 9)                 153       \n",
      "                                                                 \n",
      "=================================================================\n",
      "Total params: 5,513\n",
      "Trainable params: 5,513\n",
      "Non-trainable params: 0\n",
      "_________________________________________________________________\n"
     ]
    }
   ],
   "source": [
    "model.summary()  # tf.keras.utils.plot_model(model, show_shapes=True)"
   ]
  },
  {
   "cell_type": "code",
   "execution_count": 54,
   "metadata": {},
   "outputs": [],
   "source": [
    "# Callback de punto de control del modelo\n",
    "cp_callback = keras.callbacks.ModelCheckpoint(\n",
    "    model_save_path, verbose=1, save_weights_only=False)\n",
    "# Callback para detención temprana\n",
    "es_callback = tf.keras.callbacks.EarlyStopping(patience=10, verbose=1)"
   ]
  },
  {
   "cell_type": "code",
   "execution_count": 55,
   "metadata": {},
   "outputs": [],
   "source": [
    "# Compilación del modelo\n",
    "model.compile(\n",
    "    optimizer='adam',\n",
    "    loss='sparse_categorical_crossentropy',\n",
    "    metrics=['accuracy']\n",
    ")"
   ]
  },
  {
   "cell_type": "markdown",
   "metadata": {},
   "source": [
    "# Entrenamiento del modelo"
   ]
  },
  {
   "cell_type": "code",
   "execution_count": 56,
   "metadata": {},
   "outputs": [
    {
     "name": "stdout",
     "output_type": "stream",
     "text": [
      "Epoch 1/100\n",
      "42/46 [==========================>...] - ETA: 0s - loss: 2.0989 - accuracy: 0.2851\n",
      "Epoch 1: saving model to model/keypoint_classifier\\keypoint_classifier.keras\n",
      "46/46 [==============================] - 1s 12ms/step - loss: 2.0849 - accuracy: 0.2938 - val_loss: 1.7584 - val_accuracy: 0.4200\n",
      "Epoch 2/100\n",
      "38/46 [=======================>......] - ETA: 0s - loss: 1.7602 - accuracy: 0.4527\n",
      "Epoch 2: saving model to model/keypoint_classifier\\keypoint_classifier.keras\n",
      "46/46 [==============================] - 0s 7ms/step - loss: 1.7409 - accuracy: 0.4579 - val_loss: 1.3939 - val_accuracy: 0.5498\n",
      "Epoch 3/100\n",
      "40/46 [=========================>....] - ETA: 0s - loss: 1.5178 - accuracy: 0.5192\n",
      "Epoch 3: saving model to model/keypoint_classifier\\keypoint_classifier.keras\n",
      "46/46 [==============================] - 0s 6ms/step - loss: 1.5123 - accuracy: 0.5208 - val_loss: 1.1699 - val_accuracy: 0.6337\n",
      "Epoch 4/100\n",
      "44/46 [===========================>..] - ETA: 0s - loss: 1.3547 - accuracy: 0.5721\n",
      "Epoch 4: saving model to model/keypoint_classifier\\keypoint_classifier.keras\n",
      "46/46 [==============================] - 0s 6ms/step - loss: 1.3531 - accuracy: 0.5734 - val_loss: 1.0498 - val_accuracy: 0.7042\n",
      "Epoch 5/100\n",
      "46/46 [==============================] - ETA: 0s - loss: 1.2561 - accuracy: 0.6066\n",
      "Epoch 5: saving model to model/keypoint_classifier\\keypoint_classifier.keras\n",
      "46/46 [==============================] - 0s 7ms/step - loss: 1.2561 - accuracy: 0.6066 - val_loss: 0.9532 - val_accuracy: 0.7490\n",
      "Epoch 6/100\n",
      "45/46 [============================>.] - ETA: 0s - loss: 1.1905 - accuracy: 0.6303\n",
      "Epoch 6: saving model to model/keypoint_classifier\\keypoint_classifier.keras\n",
      "46/46 [==============================] - 0s 7ms/step - loss: 1.1904 - accuracy: 0.6300 - val_loss: 0.9012 - val_accuracy: 0.7546\n",
      "Epoch 7/100\n",
      "38/46 [=======================>......] - ETA: 0s - loss: 1.1394 - accuracy: 0.6397\n",
      "Epoch 7: saving model to model/keypoint_classifier\\keypoint_classifier.keras\n",
      "46/46 [==============================] - 0s 6ms/step - loss: 1.1310 - accuracy: 0.6419 - val_loss: 0.8512 - val_accuracy: 0.7725\n",
      "Epoch 8/100\n",
      "40/46 [=========================>....] - ETA: 0s - loss: 1.0963 - accuracy: 0.6579\n",
      "Epoch 8: saving model to model/keypoint_classifier\\keypoint_classifier.keras\n",
      "46/46 [==============================] - 0s 6ms/step - loss: 1.0987 - accuracy: 0.6571 - val_loss: 0.8095 - val_accuracy: 0.7707\n",
      "Epoch 9/100\n",
      "36/46 [======================>.......] - ETA: 0s - loss: 1.0539 - accuracy: 0.6738\n",
      "Epoch 9: saving model to model/keypoint_classifier\\keypoint_classifier.keras\n",
      "46/46 [==============================] - 0s 6ms/step - loss: 1.0559 - accuracy: 0.6735 - val_loss: 0.7685 - val_accuracy: 0.7860\n",
      "Epoch 10/100\n",
      "38/46 [=======================>......] - ETA: 0s - loss: 1.0295 - accuracy: 0.6775\n",
      "Epoch 10: saving model to model/keypoint_classifier\\keypoint_classifier.keras\n",
      "46/46 [==============================] - 0s 7ms/step - loss: 1.0280 - accuracy: 0.6812 - val_loss: 0.7324 - val_accuracy: 0.8016\n",
      "Epoch 11/100\n",
      "37/46 [=======================>......] - ETA: 0s - loss: 0.9959 - accuracy: 0.7022\n",
      "Epoch 11: saving model to model/keypoint_classifier\\keypoint_classifier.keras\n",
      "46/46 [==============================] - 0s 6ms/step - loss: 0.9928 - accuracy: 0.7015 - val_loss: 0.7007 - val_accuracy: 0.8129\n",
      "Epoch 12/100\n",
      "43/46 [===========================>..] - ETA: 0s - loss: 0.9777 - accuracy: 0.7032\n",
      "Epoch 12: saving model to model/keypoint_classifier\\keypoint_classifier.keras\n",
      "46/46 [==============================] - 0s 6ms/step - loss: 0.9756 - accuracy: 0.7037 - val_loss: 0.6709 - val_accuracy: 0.8203\n",
      "Epoch 13/100\n",
      "42/46 [==========================>...] - ETA: 0s - loss: 0.9476 - accuracy: 0.7106\n",
      "Epoch 13: saving model to model/keypoint_classifier\\keypoint_classifier.keras\n",
      "46/46 [==============================] - 0s 6ms/step - loss: 0.9443 - accuracy: 0.7129 - val_loss: 0.6464 - val_accuracy: 0.8292\n",
      "Epoch 14/100\n",
      "40/46 [=========================>....] - ETA: 0s - loss: 0.9177 - accuracy: 0.7242\n",
      "Epoch 14: saving model to model/keypoint_classifier\\keypoint_classifier.keras\n",
      "46/46 [==============================] - 0s 6ms/step - loss: 0.9214 - accuracy: 0.7227 - val_loss: 0.6308 - val_accuracy: 0.8295\n",
      "Epoch 15/100\n",
      "37/46 [=======================>......] - ETA: 0s - loss: 0.9141 - accuracy: 0.7303\n",
      "Epoch 15: saving model to model/keypoint_classifier\\keypoint_classifier.keras\n",
      "46/46 [==============================] - 0s 6ms/step - loss: 0.9037 - accuracy: 0.7334 - val_loss: 0.6032 - val_accuracy: 0.8372\n",
      "Epoch 16/100\n",
      "35/46 [=====================>........] - ETA: 0s - loss: 0.8968 - accuracy: 0.7371\n",
      "Epoch 16: saving model to model/keypoint_classifier\\keypoint_classifier.keras\n",
      "46/46 [==============================] - 0s 6ms/step - loss: 0.8901 - accuracy: 0.7403 - val_loss: 0.5870 - val_accuracy: 0.8374\n",
      "Epoch 17/100\n",
      "37/46 [=======================>......] - ETA: 0s - loss: 0.8773 - accuracy: 0.7451\n",
      "Epoch 17: saving model to model/keypoint_classifier\\keypoint_classifier.keras\n",
      "46/46 [==============================] - 0s 6ms/step - loss: 0.8756 - accuracy: 0.7456 - val_loss: 0.5724 - val_accuracy: 0.8384\n",
      "Epoch 18/100\n",
      "43/46 [===========================>..] - ETA: 0s - loss: 0.8601 - accuracy: 0.7456\n",
      "Epoch 18: saving model to model/keypoint_classifier\\keypoint_classifier.keras\n",
      "46/46 [==============================] - 0s 5ms/step - loss: 0.8613 - accuracy: 0.7456 - val_loss: 0.5576 - val_accuracy: 0.8476\n",
      "Epoch 19/100\n",
      "46/46 [==============================] - ETA: 0s - loss: 0.8459 - accuracy: 0.7521\n",
      "Epoch 19: saving model to model/keypoint_classifier\\keypoint_classifier.keras\n",
      "46/46 [==============================] - 0s 7ms/step - loss: 0.8459 - accuracy: 0.7521 - val_loss: 0.5414 - val_accuracy: 0.8471\n",
      "Epoch 20/100\n",
      "41/46 [=========================>....] - ETA: 0s - loss: 0.8196 - accuracy: 0.7622\n",
      "Epoch 20: saving model to model/keypoint_classifier\\keypoint_classifier.keras\n",
      "46/46 [==============================] - 0s 7ms/step - loss: 0.8212 - accuracy: 0.7604 - val_loss: 0.5272 - val_accuracy: 0.8505\n",
      "Epoch 21/100\n",
      "43/46 [===========================>..] - ETA: 0s - loss: 0.8220 - accuracy: 0.7599\n",
      "Epoch 21: saving model to model/keypoint_classifier\\keypoint_classifier.keras\n",
      "46/46 [==============================] - 0s 7ms/step - loss: 0.8211 - accuracy: 0.7610 - val_loss: 0.5095 - val_accuracy: 0.8612\n",
      "Epoch 22/100\n",
      "39/46 [========================>.....] - ETA: 0s - loss: 0.7985 - accuracy: 0.7687\n",
      "Epoch 22: saving model to model/keypoint_classifier\\keypoint_classifier.keras\n",
      "46/46 [==============================] - 0s 6ms/step - loss: 0.8066 - accuracy: 0.7657 - val_loss: 0.4967 - val_accuracy: 0.8612\n",
      "Epoch 23/100\n",
      "35/46 [=====================>........] - ETA: 0s - loss: 0.7969 - accuracy: 0.7650\n",
      "Epoch 23: saving model to model/keypoint_classifier\\keypoint_classifier.keras\n",
      "46/46 [==============================] - 0s 6ms/step - loss: 0.7998 - accuracy: 0.7655 - val_loss: 0.4843 - val_accuracy: 0.8701\n",
      "Epoch 24/100\n",
      "42/46 [==========================>...] - ETA: 0s - loss: 0.7931 - accuracy: 0.7685\n",
      "Epoch 24: saving model to model/keypoint_classifier\\keypoint_classifier.keras\n",
      "46/46 [==============================] - 0s 5ms/step - loss: 0.7962 - accuracy: 0.7678 - val_loss: 0.4943 - val_accuracy: 0.8599\n",
      "Epoch 25/100\n",
      "39/46 [========================>.....] - ETA: 0s - loss: 0.7777 - accuracy: 0.7739\n",
      "Epoch 25: saving model to model/keypoint_classifier\\keypoint_classifier.keras\n",
      "46/46 [==============================] - 0s 7ms/step - loss: 0.7804 - accuracy: 0.7739 - val_loss: 0.4749 - val_accuracy: 0.8681\n",
      "Epoch 26/100\n",
      "42/46 [==========================>...] - ETA: 0s - loss: 0.7679 - accuracy: 0.7760\n",
      "Epoch 26: saving model to model/keypoint_classifier\\keypoint_classifier.keras\n",
      "46/46 [==============================] - 0s 6ms/step - loss: 0.7670 - accuracy: 0.7756 - val_loss: 0.4718 - val_accuracy: 0.8653\n",
      "Epoch 27/100\n",
      "43/46 [===========================>..] - ETA: 0s - loss: 0.7653 - accuracy: 0.7783\n",
      "Epoch 27: saving model to model/keypoint_classifier\\keypoint_classifier.keras\n",
      "46/46 [==============================] - 0s 8ms/step - loss: 0.7681 - accuracy: 0.7767 - val_loss: 0.4696 - val_accuracy: 0.8663\n",
      "Epoch 28/100\n",
      "36/46 [======================>.......] - ETA: 0s - loss: 0.7421 - accuracy: 0.7915\n",
      "Epoch 28: saving model to model/keypoint_classifier\\keypoint_classifier.keras\n",
      "46/46 [==============================] - 0s 6ms/step - loss: 0.7457 - accuracy: 0.7896 - val_loss: 0.4536 - val_accuracy: 0.8747\n",
      "Epoch 29/100\n",
      "33/46 [====================>.........] - ETA: 0s - loss: 0.7336 - accuracy: 0.7855\n",
      "Epoch 29: saving model to model/keypoint_classifier\\keypoint_classifier.keras\n",
      "46/46 [==============================] - 0s 6ms/step - loss: 0.7361 - accuracy: 0.7856 - val_loss: 0.4480 - val_accuracy: 0.8793\n",
      "Epoch 30/100\n",
      "41/46 [=========================>....] - ETA: 0s - loss: 0.7455 - accuracy: 0.7846\n",
      "Epoch 30: saving model to model/keypoint_classifier\\keypoint_classifier.keras\n",
      "46/46 [==============================] - 0s 7ms/step - loss: 0.7421 - accuracy: 0.7853 - val_loss: 0.4471 - val_accuracy: 0.8799\n",
      "Epoch 31/100\n",
      "39/46 [========================>.....] - ETA: 0s - loss: 0.7244 - accuracy: 0.7896\n",
      "Epoch 31: saving model to model/keypoint_classifier\\keypoint_classifier.keras\n",
      "46/46 [==============================] - 0s 6ms/step - loss: 0.7273 - accuracy: 0.7885 - val_loss: 0.4338 - val_accuracy: 0.8862\n",
      "Epoch 32/100\n",
      "46/46 [==============================] - ETA: 0s - loss: 0.7266 - accuracy: 0.7894\n",
      "Epoch 32: saving model to model/keypoint_classifier\\keypoint_classifier.keras\n",
      "46/46 [==============================] - 0s 7ms/step - loss: 0.7266 - accuracy: 0.7894 - val_loss: 0.4289 - val_accuracy: 0.8857\n",
      "Epoch 33/100\n",
      "46/46 [==============================] - ETA: 0s - loss: 0.7246 - accuracy: 0.7928\n",
      "Epoch 33: saving model to model/keypoint_classifier\\keypoint_classifier.keras\n",
      "46/46 [==============================] - 0s 8ms/step - loss: 0.7246 - accuracy: 0.7928 - val_loss: 0.4335 - val_accuracy: 0.8832\n",
      "Epoch 34/100\n",
      "42/46 [==========================>...] - ETA: 0s - loss: 0.7166 - accuracy: 0.7954\n",
      "Epoch 34: saving model to model/keypoint_classifier\\keypoint_classifier.keras\n",
      "46/46 [==============================] - 0s 5ms/step - loss: 0.7161 - accuracy: 0.7957 - val_loss: 0.4278 - val_accuracy: 0.8832\n",
      "Epoch 35/100\n",
      "41/46 [=========================>....] - ETA: 0s - loss: 0.7123 - accuracy: 0.7967\n",
      "Epoch 35: saving model to model/keypoint_classifier\\keypoint_classifier.keras\n",
      "46/46 [==============================] - 0s 8ms/step - loss: 0.7110 - accuracy: 0.7971 - val_loss: 0.4195 - val_accuracy: 0.8834\n",
      "Epoch 36/100\n",
      "39/46 [========================>.....] - ETA: 0s - loss: 0.6980 - accuracy: 0.8015\n",
      "Epoch 36: saving model to model/keypoint_classifier\\keypoint_classifier.keras\n",
      "46/46 [==============================] - 0s 6ms/step - loss: 0.6965 - accuracy: 0.8013 - val_loss: 0.4188 - val_accuracy: 0.8855\n",
      "Epoch 37/100\n",
      "36/46 [======================>.......] - ETA: 0s - loss: 0.6983 - accuracy: 0.8014\n",
      "Epoch 37: saving model to model/keypoint_classifier\\keypoint_classifier.keras\n",
      "46/46 [==============================] - 0s 7ms/step - loss: 0.6955 - accuracy: 0.8029 - val_loss: 0.4154 - val_accuracy: 0.8880\n",
      "Epoch 38/100\n",
      "37/46 [=======================>......] - ETA: 0s - loss: 0.6859 - accuracy: 0.8069\n",
      "Epoch 38: saving model to model/keypoint_classifier\\keypoint_classifier.keras\n",
      "46/46 [==============================] - 0s 7ms/step - loss: 0.6878 - accuracy: 0.8057 - val_loss: 0.4141 - val_accuracy: 0.8926\n",
      "Epoch 39/100\n",
      "42/46 [==========================>...] - ETA: 0s - loss: 0.6985 - accuracy: 0.8032\n",
      "Epoch 39: saving model to model/keypoint_classifier\\keypoint_classifier.keras\n",
      "46/46 [==============================] - 0s 7ms/step - loss: 0.7022 - accuracy: 0.8013 - val_loss: 0.4043 - val_accuracy: 0.8944\n",
      "Epoch 40/100\n",
      "40/46 [=========================>....] - ETA: 0s - loss: 0.6782 - accuracy: 0.8027\n",
      "Epoch 40: saving model to model/keypoint_classifier\\keypoint_classifier.keras\n",
      "46/46 [==============================] - 0s 6ms/step - loss: 0.6770 - accuracy: 0.8039 - val_loss: 0.4010 - val_accuracy: 0.8949\n",
      "Epoch 41/100\n",
      "41/46 [=========================>....] - ETA: 0s - loss: 0.6849 - accuracy: 0.8044\n",
      "Epoch 41: saving model to model/keypoint_classifier\\keypoint_classifier.keras\n",
      "46/46 [==============================] - 0s 7ms/step - loss: 0.6854 - accuracy: 0.8033 - val_loss: 0.3975 - val_accuracy: 0.8970\n",
      "Epoch 42/100\n",
      "37/46 [=======================>......] - ETA: 0s - loss: 0.6752 - accuracy: 0.8026\n",
      "Epoch 42: saving model to model/keypoint_classifier\\keypoint_classifier.keras\n",
      "46/46 [==============================] - 0s 6ms/step - loss: 0.6720 - accuracy: 0.8059 - val_loss: 0.3975 - val_accuracy: 0.8921\n",
      "Epoch 43/100\n",
      "46/46 [==============================] - ETA: 0s - loss: 0.6766 - accuracy: 0.8091\n",
      "Epoch 43: saving model to model/keypoint_classifier\\keypoint_classifier.keras\n",
      "46/46 [==============================] - 0s 7ms/step - loss: 0.6766 - accuracy: 0.8091 - val_loss: 0.3977 - val_accuracy: 0.8954\n",
      "Epoch 44/100\n",
      "44/46 [===========================>..] - ETA: 0s - loss: 0.6645 - accuracy: 0.8111\n",
      "Epoch 44: saving model to model/keypoint_classifier\\keypoint_classifier.keras\n",
      "46/46 [==============================] - 0s 7ms/step - loss: 0.6635 - accuracy: 0.8114 - val_loss: 0.3896 - val_accuracy: 0.8983\n",
      "Epoch 45/100\n",
      "38/46 [=======================>......] - ETA: 0s - loss: 0.6613 - accuracy: 0.8131\n",
      "Epoch 45: saving model to model/keypoint_classifier\\keypoint_classifier.keras\n",
      "46/46 [==============================] - 0s 7ms/step - loss: 0.6625 - accuracy: 0.8126 - val_loss: 0.3866 - val_accuracy: 0.8980\n",
      "Epoch 46/100\n",
      "38/46 [=======================>......] - ETA: 0s - loss: 0.6677 - accuracy: 0.8038\n",
      "Epoch 46: saving model to model/keypoint_classifier\\keypoint_classifier.keras\n",
      "46/46 [==============================] - 0s 6ms/step - loss: 0.6653 - accuracy: 0.8059 - val_loss: 0.3890 - val_accuracy: 0.8931\n",
      "Epoch 47/100\n",
      "41/46 [=========================>....] - ETA: 0s - loss: 0.6616 - accuracy: 0.8122\n",
      "Epoch 47: saving model to model/keypoint_classifier\\keypoint_classifier.keras\n",
      "46/46 [==============================] - 0s 6ms/step - loss: 0.6613 - accuracy: 0.8123 - val_loss: 0.3851 - val_accuracy: 0.8967\n",
      "Epoch 48/100\n",
      "44/46 [===========================>..] - ETA: 0s - loss: 0.6496 - accuracy: 0.8157\n",
      "Epoch 48: saving model to model/keypoint_classifier\\keypoint_classifier.keras\n",
      "46/46 [==============================] - 0s 7ms/step - loss: 0.6505 - accuracy: 0.8152 - val_loss: 0.3808 - val_accuracy: 0.9001\n",
      "Epoch 49/100\n",
      "40/46 [=========================>....] - ETA: 0s - loss: 0.6564 - accuracy: 0.8126\n",
      "Epoch 49: saving model to model/keypoint_classifier\\keypoint_classifier.keras\n",
      "46/46 [==============================] - 0s 6ms/step - loss: 0.6558 - accuracy: 0.8135 - val_loss: 0.3790 - val_accuracy: 0.9008\n",
      "Epoch 50/100\n",
      "45/46 [============================>.] - ETA: 0s - loss: 0.6520 - accuracy: 0.8124\n",
      "Epoch 50: saving model to model/keypoint_classifier\\keypoint_classifier.keras\n",
      "46/46 [==============================] - 0s 7ms/step - loss: 0.6524 - accuracy: 0.8127 - val_loss: 0.3791 - val_accuracy: 0.9013\n",
      "Epoch 51/100\n",
      "43/46 [===========================>..] - ETA: 0s - loss: 0.6500 - accuracy: 0.8163\n",
      "Epoch 51: saving model to model/keypoint_classifier\\keypoint_classifier.keras\n",
      "46/46 [==============================] - 0s 8ms/step - loss: 0.6490 - accuracy: 0.8159 - val_loss: 0.3741 - val_accuracy: 0.9008\n",
      "Epoch 52/100\n",
      "40/46 [=========================>....] - ETA: 0s - loss: 0.6295 - accuracy: 0.8205\n",
      "Epoch 52: saving model to model/keypoint_classifier\\keypoint_classifier.keras\n",
      "46/46 [==============================] - 0s 9ms/step - loss: 0.6292 - accuracy: 0.8205 - val_loss: 0.3631 - val_accuracy: 0.9064\n",
      "Epoch 53/100\n",
      "45/46 [============================>.] - ETA: 0s - loss: 0.6423 - accuracy: 0.8159\n",
      "Epoch 53: saving model to model/keypoint_classifier\\keypoint_classifier.keras\n",
      "46/46 [==============================] - 0s 7ms/step - loss: 0.6422 - accuracy: 0.8161 - val_loss: 0.3726 - val_accuracy: 0.9001\n",
      "Epoch 54/100\n",
      "46/46 [==============================] - ETA: 0s - loss: 0.6316 - accuracy: 0.8159\n",
      "Epoch 54: saving model to model/keypoint_classifier\\keypoint_classifier.keras\n",
      "46/46 [==============================] - 1s 11ms/step - loss: 0.6316 - accuracy: 0.8159 - val_loss: 0.3629 - val_accuracy: 0.9082\n",
      "Epoch 55/100\n",
      "45/46 [============================>.] - ETA: 0s - loss: 0.6302 - accuracy: 0.8197\n",
      "Epoch 55: saving model to model/keypoint_classifier\\keypoint_classifier.keras\n",
      "46/46 [==============================] - 0s 10ms/step - loss: 0.6307 - accuracy: 0.8192 - val_loss: 0.3698 - val_accuracy: 0.9072\n",
      "Epoch 56/100\n",
      "42/46 [==========================>...] - ETA: 0s - loss: 0.6310 - accuracy: 0.8195\n",
      "Epoch 56: saving model to model/keypoint_classifier\\keypoint_classifier.keras\n",
      "46/46 [==============================] - 1s 16ms/step - loss: 0.6291 - accuracy: 0.8187 - val_loss: 0.3618 - val_accuracy: 0.9110\n",
      "Epoch 57/100\n",
      "43/46 [===========================>..] - ETA: 0s - loss: 0.6242 - accuracy: 0.8215\n",
      "Epoch 57: saving model to model/keypoint_classifier\\keypoint_classifier.keras\n",
      "46/46 [==============================] - 0s 10ms/step - loss: 0.6223 - accuracy: 0.8222 - val_loss: 0.3626 - val_accuracy: 0.9082\n",
      "Epoch 58/100\n",
      "43/46 [===========================>..] - ETA: 0s - loss: 0.6106 - accuracy: 0.8237\n",
      "Epoch 58: saving model to model/keypoint_classifier\\keypoint_classifier.keras\n",
      "46/46 [==============================] - 0s 9ms/step - loss: 0.6118 - accuracy: 0.8232 - val_loss: 0.3593 - val_accuracy: 0.9116\n",
      "Epoch 59/100\n",
      "40/46 [=========================>....] - ETA: 0s - loss: 0.6176 - accuracy: 0.8246\n",
      "Epoch 59: saving model to model/keypoint_classifier\\keypoint_classifier.keras\n",
      "46/46 [==============================] - 0s 9ms/step - loss: 0.6205 - accuracy: 0.8229 - val_loss: 0.3527 - val_accuracy: 0.9128\n",
      "Epoch 60/100\n",
      "43/46 [===========================>..] - ETA: 0s - loss: 0.6014 - accuracy: 0.8274\n",
      "Epoch 60: saving model to model/keypoint_classifier\\keypoint_classifier.keras\n",
      "46/46 [==============================] - 0s 10ms/step - loss: 0.5993 - accuracy: 0.8285 - val_loss: 0.3556 - val_accuracy: 0.9131\n",
      "Epoch 61/100\n",
      "42/46 [==========================>...] - ETA: 0s - loss: 0.5915 - accuracy: 0.8281\n",
      "Epoch 61: saving model to model/keypoint_classifier\\keypoint_classifier.keras\n",
      "46/46 [==============================] - 0s 9ms/step - loss: 0.5899 - accuracy: 0.8295 - val_loss: 0.3478 - val_accuracy: 0.9126\n",
      "Epoch 62/100\n",
      "45/46 [============================>.] - ETA: 0s - loss: 0.6089 - accuracy: 0.8290\n",
      "Epoch 62: saving model to model/keypoint_classifier\\keypoint_classifier.keras\n",
      "46/46 [==============================] - 1s 12ms/step - loss: 0.6096 - accuracy: 0.8289 - val_loss: 0.3495 - val_accuracy: 0.9100\n",
      "Epoch 63/100\n",
      "39/46 [========================>.....] - ETA: 0s - loss: 0.6142 - accuracy: 0.8253\n",
      "Epoch 63: saving model to model/keypoint_classifier\\keypoint_classifier.keras\n",
      "46/46 [==============================] - 0s 6ms/step - loss: 0.6079 - accuracy: 0.8271 - val_loss: 0.3475 - val_accuracy: 0.9139\n",
      "Epoch 64/100\n",
      "42/46 [==========================>...] - ETA: 0s - loss: 0.6002 - accuracy: 0.8283\n",
      "Epoch 64: saving model to model/keypoint_classifier\\keypoint_classifier.keras\n",
      "46/46 [==============================] - 0s 6ms/step - loss: 0.6027 - accuracy: 0.8287 - val_loss: 0.3494 - val_accuracy: 0.9082\n",
      "Epoch 65/100\n",
      "42/46 [==========================>...] - ETA: 0s - loss: 0.5989 - accuracy: 0.8284\n",
      "Epoch 65: saving model to model/keypoint_classifier\\keypoint_classifier.keras\n",
      "46/46 [==============================] - 0s 6ms/step - loss: 0.5977 - accuracy: 0.8292 - val_loss: 0.3420 - val_accuracy: 0.9144\n",
      "Epoch 66/100\n",
      "33/46 [====================>.........] - ETA: 0s - loss: 0.5940 - accuracy: 0.8295\n",
      "Epoch 66: saving model to model/keypoint_classifier\\keypoint_classifier.keras\n",
      "46/46 [==============================] - 0s 6ms/step - loss: 0.5881 - accuracy: 0.8339 - val_loss: 0.3415 - val_accuracy: 0.9146\n",
      "Epoch 67/100\n",
      "34/46 [=====================>........] - ETA: 0s - loss: 0.5927 - accuracy: 0.8336\n",
      "Epoch 67: saving model to model/keypoint_classifier\\keypoint_classifier.keras\n",
      "46/46 [==============================] - 0s 6ms/step - loss: 0.5947 - accuracy: 0.8322 - val_loss: 0.3403 - val_accuracy: 0.9126\n",
      "Epoch 68/100\n",
      "38/46 [=======================>......] - ETA: 0s - loss: 0.5881 - accuracy: 0.8381\n",
      "Epoch 68: saving model to model/keypoint_classifier\\keypoint_classifier.keras\n",
      "46/46 [==============================] - 0s 6ms/step - loss: 0.5887 - accuracy: 0.8365 - val_loss: 0.3361 - val_accuracy: 0.9225\n",
      "Epoch 69/100\n",
      "43/46 [===========================>..] - ETA: 0s - loss: 0.5849 - accuracy: 0.8348\n",
      "Epoch 69: saving model to model/keypoint_classifier\\keypoint_classifier.keras\n",
      "46/46 [==============================] - 0s 6ms/step - loss: 0.5846 - accuracy: 0.8346 - val_loss: 0.3348 - val_accuracy: 0.9205\n",
      "Epoch 70/100\n",
      "39/46 [========================>.....] - ETA: 0s - loss: 0.5841 - accuracy: 0.8345\n",
      "Epoch 70: saving model to model/keypoint_classifier\\keypoint_classifier.keras\n",
      "46/46 [==============================] - 0s 7ms/step - loss: 0.5848 - accuracy: 0.8337 - val_loss: 0.3350 - val_accuracy: 0.9164\n",
      "Epoch 71/100\n",
      "46/46 [==============================] - ETA: 0s - loss: 0.5791 - accuracy: 0.8383\n",
      "Epoch 71: saving model to model/keypoint_classifier\\keypoint_classifier.keras\n",
      "46/46 [==============================] - 0s 5ms/step - loss: 0.5791 - accuracy: 0.8383 - val_loss: 0.3298 - val_accuracy: 0.9205\n",
      "Epoch 72/100\n",
      "37/46 [=======================>......] - ETA: 0s - loss: 0.5733 - accuracy: 0.8389\n",
      "Epoch 72: saving model to model/keypoint_classifier\\keypoint_classifier.keras\n",
      "46/46 [==============================] - 0s 7ms/step - loss: 0.5771 - accuracy: 0.8357 - val_loss: 0.3302 - val_accuracy: 0.9174\n",
      "Epoch 73/100\n",
      "35/46 [=====================>........] - ETA: 0s - loss: 0.5794 - accuracy: 0.8359\n",
      "Epoch 73: saving model to model/keypoint_classifier\\keypoint_classifier.keras\n",
      "46/46 [==============================] - 0s 6ms/step - loss: 0.5789 - accuracy: 0.8375 - val_loss: 0.3314 - val_accuracy: 0.9208\n",
      "Epoch 74/100\n",
      "35/46 [=====================>........] - ETA: 0s - loss: 0.5818 - accuracy: 0.8349\n",
      "Epoch 74: saving model to model/keypoint_classifier\\keypoint_classifier.keras\n",
      "46/46 [==============================] - 0s 7ms/step - loss: 0.5819 - accuracy: 0.8365 - val_loss: 0.3281 - val_accuracy: 0.9241\n",
      "Epoch 75/100\n",
      "34/46 [=====================>........] - ETA: 0s - loss: 0.5783 - accuracy: 0.8381\n",
      "Epoch 75: saving model to model/keypoint_classifier\\keypoint_classifier.keras\n",
      "46/46 [==============================] - 0s 6ms/step - loss: 0.5700 - accuracy: 0.8392 - val_loss: 0.3285 - val_accuracy: 0.9225\n",
      "Epoch 76/100\n",
      "42/46 [==========================>...] - ETA: 0s - loss: 0.5681 - accuracy: 0.8409\n",
      "Epoch 76: saving model to model/keypoint_classifier\\keypoint_classifier.keras\n",
      "46/46 [==============================] - 0s 7ms/step - loss: 0.5714 - accuracy: 0.8391 - val_loss: 0.3289 - val_accuracy: 0.9159\n",
      "Epoch 77/100\n",
      "33/46 [====================>.........] - ETA: 0s - loss: 0.5703 - accuracy: 0.8410\n",
      "Epoch 77: saving model to model/keypoint_classifier\\keypoint_classifier.keras\n",
      "46/46 [==============================] - 0s 6ms/step - loss: 0.5672 - accuracy: 0.8410 - val_loss: 0.3240 - val_accuracy: 0.9228\n",
      "Epoch 78/100\n",
      "45/46 [============================>.] - ETA: 0s - loss: 0.5637 - accuracy: 0.8442\n",
      "Epoch 78: saving model to model/keypoint_classifier\\keypoint_classifier.keras\n",
      "46/46 [==============================] - 0s 7ms/step - loss: 0.5636 - accuracy: 0.8440 - val_loss: 0.3334 - val_accuracy: 0.9156\n",
      "Epoch 79/100\n",
      "41/46 [=========================>....] - ETA: 0s - loss: 0.5636 - accuracy: 0.8400\n",
      "Epoch 79: saving model to model/keypoint_classifier\\keypoint_classifier.keras\n",
      "46/46 [==============================] - 0s 7ms/step - loss: 0.5631 - accuracy: 0.8407 - val_loss: 0.3316 - val_accuracy: 0.9190\n",
      "Epoch 80/100\n",
      "41/46 [=========================>....] - ETA: 0s - loss: 0.5628 - accuracy: 0.8429\n",
      "Epoch 80: saving model to model/keypoint_classifier\\keypoint_classifier.keras\n",
      "46/46 [==============================] - 0s 8ms/step - loss: 0.5650 - accuracy: 0.8402 - val_loss: 0.3319 - val_accuracy: 0.9231\n",
      "Epoch 81/100\n",
      "35/46 [=====================>........] - ETA: 0s - loss: 0.5635 - accuracy: 0.8432\n",
      "Epoch 81: saving model to model/keypoint_classifier\\keypoint_classifier.keras\n",
      "46/46 [==============================] - 0s 7ms/step - loss: 0.5686 - accuracy: 0.8429 - val_loss: 0.3271 - val_accuracy: 0.9215\n",
      "Epoch 82/100\n",
      "39/46 [========================>.....] - ETA: 0s - loss: 0.5590 - accuracy: 0.8418\n",
      "Epoch 82: saving model to model/keypoint_classifier\\keypoint_classifier.keras\n",
      "46/46 [==============================] - 0s 6ms/step - loss: 0.5579 - accuracy: 0.8418 - val_loss: 0.3251 - val_accuracy: 0.9187\n",
      "Epoch 83/100\n",
      "44/46 [===========================>..] - ETA: 0s - loss: 0.5534 - accuracy: 0.8421\n",
      "Epoch 83: saving model to model/keypoint_classifier\\keypoint_classifier.keras\n",
      "46/46 [==============================] - 0s 8ms/step - loss: 0.5522 - accuracy: 0.8433 - val_loss: 0.3233 - val_accuracy: 0.9218\n",
      "Epoch 84/100\n",
      "35/46 [=====================>........] - ETA: 0s - loss: 0.5630 - accuracy: 0.8401\n",
      "Epoch 84: saving model to model/keypoint_classifier\\keypoint_classifier.keras\n",
      "46/46 [==============================] - 0s 7ms/step - loss: 0.5598 - accuracy: 0.8384 - val_loss: 0.3234 - val_accuracy: 0.9218\n",
      "Epoch 85/100\n",
      "39/46 [========================>.....] - ETA: 0s - loss: 0.5538 - accuracy: 0.8463\n",
      "Epoch 85: saving model to model/keypoint_classifier\\keypoint_classifier.keras\n",
      "46/46 [==============================] - 0s 6ms/step - loss: 0.5537 - accuracy: 0.8458 - val_loss: 0.3146 - val_accuracy: 0.9264\n",
      "Epoch 86/100\n",
      "34/46 [=====================>........] - ETA: 0s - loss: 0.5440 - accuracy: 0.8519\n",
      "Epoch 86: saving model to model/keypoint_classifier\\keypoint_classifier.keras\n",
      "46/46 [==============================] - 0s 6ms/step - loss: 0.5470 - accuracy: 0.8508 - val_loss: 0.3183 - val_accuracy: 0.9246\n",
      "Epoch 87/100\n",
      "42/46 [==========================>...] - ETA: 0s - loss: 0.5578 - accuracy: 0.8441\n",
      "Epoch 87: saving model to model/keypoint_classifier\\keypoint_classifier.keras\n",
      "46/46 [==============================] - 0s 5ms/step - loss: 0.5560 - accuracy: 0.8449 - val_loss: 0.3166 - val_accuracy: 0.9254\n",
      "Epoch 88/100\n",
      "37/46 [=======================>......] - ETA: 0s - loss: 0.5410 - accuracy: 0.8478\n",
      "Epoch 88: saving model to model/keypoint_classifier\\keypoint_classifier.keras\n",
      "46/46 [==============================] - 0s 6ms/step - loss: 0.5451 - accuracy: 0.8476 - val_loss: 0.3097 - val_accuracy: 0.9261\n",
      "Epoch 89/100\n",
      "39/46 [========================>.....] - ETA: 0s - loss: 0.5529 - accuracy: 0.8472\n",
      "Epoch 89: saving model to model/keypoint_classifier\\keypoint_classifier.keras\n",
      "46/46 [==============================] - 0s 6ms/step - loss: 0.5502 - accuracy: 0.8485 - val_loss: 0.3182 - val_accuracy: 0.9256\n",
      "Epoch 90/100\n",
      "41/46 [=========================>....] - ETA: 0s - loss: 0.5364 - accuracy: 0.8503\n",
      "Epoch 90: saving model to model/keypoint_classifier\\keypoint_classifier.keras\n",
      "46/46 [==============================] - 0s 7ms/step - loss: 0.5392 - accuracy: 0.8485 - val_loss: 0.3169 - val_accuracy: 0.9238\n",
      "Epoch 91/100\n",
      "38/46 [=======================>......] - ETA: 0s - loss: 0.5413 - accuracy: 0.8480\n",
      "Epoch 91: saving model to model/keypoint_classifier\\keypoint_classifier.keras\n",
      "46/46 [==============================] - 0s 7ms/step - loss: 0.5377 - accuracy: 0.8498 - val_loss: 0.3187 - val_accuracy: 0.9200\n",
      "Epoch 92/100\n",
      "37/46 [=======================>......] - ETA: 0s - loss: 0.5365 - accuracy: 0.8515\n",
      "Epoch 92: saving model to model/keypoint_classifier\\keypoint_classifier.keras\n",
      "46/46 [==============================] - 0s 7ms/step - loss: 0.5368 - accuracy: 0.8515 - val_loss: 0.3104 - val_accuracy: 0.9231\n",
      "Epoch 93/100\n",
      "37/46 [=======================>......] - ETA: 0s - loss: 0.5280 - accuracy: 0.8498\n",
      "Epoch 93: saving model to model/keypoint_classifier\\keypoint_classifier.keras\n",
      "46/46 [==============================] - 0s 6ms/step - loss: 0.5327 - accuracy: 0.8488 - val_loss: 0.3167 - val_accuracy: 0.9228\n",
      "Epoch 94/100\n",
      "39/46 [========================>.....] - ETA: 0s - loss: 0.5435 - accuracy: 0.8460\n",
      "Epoch 94: saving model to model/keypoint_classifier\\keypoint_classifier.keras\n",
      "46/46 [==============================] - 0s 7ms/step - loss: 0.5437 - accuracy: 0.8447 - val_loss: 0.3176 - val_accuracy: 0.9228\n",
      "Epoch 95/100\n",
      "45/46 [============================>.] - ETA: 0s - loss: 0.5421 - accuracy: 0.8445\n",
      "Epoch 95: saving model to model/keypoint_classifier\\keypoint_classifier.keras\n",
      "46/46 [==============================] - 0s 7ms/step - loss: 0.5408 - accuracy: 0.8451 - val_loss: 0.3069 - val_accuracy: 0.9246\n",
      "Epoch 96/100\n",
      "45/46 [============================>.] - ETA: 0s - loss: 0.5265 - accuracy: 0.8519\n",
      "Epoch 96: saving model to model/keypoint_classifier\\keypoint_classifier.keras\n",
      "46/46 [==============================] - 0s 7ms/step - loss: 0.5265 - accuracy: 0.8521 - val_loss: 0.3120 - val_accuracy: 0.9254\n",
      "Epoch 97/100\n",
      "43/46 [===========================>..] - ETA: 0s - loss: 0.5365 - accuracy: 0.8501\n",
      "Epoch 97: saving model to model/keypoint_classifier\\keypoint_classifier.keras\n",
      "46/46 [==============================] - 0s 7ms/step - loss: 0.5344 - accuracy: 0.8506 - val_loss: 0.3055 - val_accuracy: 0.9292\n",
      "Epoch 98/100\n",
      "46/46 [==============================] - ETA: 0s - loss: 0.5339 - accuracy: 0.8517\n",
      "Epoch 98: saving model to model/keypoint_classifier\\keypoint_classifier.keras\n",
      "46/46 [==============================] - 0s 8ms/step - loss: 0.5339 - accuracy: 0.8517 - val_loss: 0.3074 - val_accuracy: 0.9266\n",
      "Epoch 99/100\n",
      "41/46 [=========================>....] - ETA: 0s - loss: 0.5231 - accuracy: 0.8557\n",
      "Epoch 99: saving model to model/keypoint_classifier\\keypoint_classifier.keras\n",
      "46/46 [==============================] - 0s 10ms/step - loss: 0.5246 - accuracy: 0.8556 - val_loss: 0.3102 - val_accuracy: 0.9264\n",
      "Epoch 100/100\n",
      "37/46 [=======================>......] - ETA: 0s - loss: 0.5291 - accuracy: 0.8482\n",
      "Epoch 100: saving model to model/keypoint_classifier\\keypoint_classifier.keras\n",
      "46/46 [==============================] - 0s 11ms/step - loss: 0.5274 - accuracy: 0.8494 - val_loss: 0.3004 - val_accuracy: 0.9315\n"
     ]
    }
   ],
   "source": [
    "# Entrenar el modelo y guardar la historia\n",
    "history = model.fit(\n",
    "    X_train,\n",
    "    y_train,\n",
    "    epochs=100,\n",
    "    batch_size=258,\n",
    "    validation_data=(X_test, y_test),\n",
    "    callbacks=[cp_callback, es_callback]\n",
    ")"
   ]
  },
  {
   "cell_type": "code",
   "execution_count": 57,
   "metadata": {},
   "outputs": [
    {
     "data": {
      "image/png": "[encoded data removed]",
      "text/plain": [
       "<Figure size 800x800 with 2 Axes>"
      ]
     },
     "metadata": {},
     "output_type": "display_data"
    }
   ],
   "source": [
    "import matplotlib.pyplot as plt\n",
    "\n",
    "# Graficar la precisión\n",
    "plt.figure(figsize=(8, 8))\n",
    "plt.subplot(2, 1, 1)\n",
    "plt.plot(history.history['accuracy'], label='Precisión de entrenamiento')\n",
    "plt.plot(history.history['val_accuracy'], label='Precisión de validación')\n",
    "plt.legend(loc='lower right')\n",
    "plt.title('Precisión de entrenamiento y validación')\n",
    "\n",
    "# Graficar la pérdida\n",
    "plt.subplot(2, 1, 2)\n",
    "plt.plot(history.history['loss'], label='Pérdida de entrenamiento')\n",
    "plt.plot(history.history['val_loss'], label='Pérdida de validación')\n",
    "plt.legend(loc='upper right')\n",
    "plt.title('Pérdida de entrenamiento y validación')\n",
    "plt.xlabel('Época')\n",
    "plt.show()"
   ]
  },
  {
   "cell_type": "code",
   "execution_count": 58,
   "metadata": {},
   "outputs": [
    {
     "name": "stdout",
     "output_type": "stream",
     "text": [
      "31/31 [==============================] - 0s 5ms/step - loss: 0.2942 - accuracy: 0.9259\n"
     ]
    }
   ],
   "source": [
    "# Evaluación del modelo\n",
    "val_loss, val_acc = model.evaluate(X_val, y_val, batch_size=128)"
   ]
  },
  {
   "cell_type": "code",
   "execution_count": 59,
   "metadata": {},
   "outputs": [],
   "source": [
    "# Carga del modelo guardado\n",
    "model = tf.keras.models.load_model(model_save_path)"
   ]
  },
  {
   "cell_type": "code",
   "execution_count": 60,
   "metadata": {},
   "outputs": [
    {
     "name": "stdout",
     "output_type": "stream",
     "text": [
      "1/1 [==============================] - 0s 91ms/step\n",
      "[1.1235420e-03 5.1602648e-05 6.4354581e-06 7.2127759e-06 1.1140708e-08\n",
      " 9.9867356e-01 2.4993120e-08 1.3677950e-04 8.2037695e-07]\n",
      "5\n"
     ]
    }
   ],
   "source": [
    "# Prueba de inferencia\n",
    "predict_result = model.predict(np.array([X_val[0]]))\n",
    "print(np.squeeze(predict_result))\n",
    "print(np.argmax(np.squeeze(predict_result)))"
   ]
  },
  {
   "cell_type": "markdown",
   "metadata": {},
   "source": [
    "# Matriz de confusión"
   ]
  },
  {
   "cell_type": "code",
   "execution_count": 61,
   "metadata": {},
   "outputs": [
    {
     "name": "stdout",
     "output_type": "stream",
     "text": [
      "123/123 [==============================] - 0s 2ms/step\n"
     ]
    },
    {
     "data": {
      "image/png": "[encoded data removed]",
      "text/plain": [
       "<Figure size 700x600 with 2 Axes>"
      ]
     },
     "metadata": {},
     "output_type": "display_data"
    },
    {
     "name": "stdout",
     "output_type": "stream",
     "text": [
      "Classification Report\n",
      "              precision    recall  f1-score   support\n",
      "\n",
      "           0       0.95      0.68      0.79       311\n",
      "           1       0.91      0.78      0.84       298\n",
      "           2       0.84      0.72      0.77       258\n",
      "           3       0.96      0.99      0.97       953\n",
      "           4       0.90      0.92      0.91       321\n",
      "           5       0.97      0.97      0.97       292\n",
      "           6       0.93      0.98      0.95       316\n",
      "           7       0.95      0.99      0.97       265\n",
      "           8       0.90      1.00      0.95       898\n",
      "\n",
      "    accuracy                           0.93      3912\n",
      "   macro avg       0.92      0.89      0.90      3912\n",
      "weighted avg       0.93      0.93      0.92      3912\n",
      "\n"
     ]
    }
   ],
   "source": [
    "import pandas as pd\n",
    "import seaborn as sns\n",
    "import matplotlib.pyplot as plt\n",
    "from sklearn.metrics import confusion_matrix, classification_report\n",
    "\n",
    "def print_confusion_matrix(y_true, y_pred, labels_name, report=True):\n",
    "    labels = sorted(list(set(y_true)))\n",
    "    cmx_data = confusion_matrix(y_true, y_pred, labels=range(len(labels_name)))\n",
    "    \n",
    "    df_cmx = pd.DataFrame(cmx_data, index=labels_name, columns=labels_name)\n",
    " \n",
    "    fig, ax = plt.subplots(figsize=(7, 6))\n",
    "    sns.heatmap(df_cmx, annot=True, fmt='g' ,square=False)\n",
    "    ax.set_ylim(len(set(y_true)), 0)\n",
    "    plt.show()\n",
    "    \n",
    "    if report:\n",
    "        print('Classification Report')\n",
    "        print(classification_report(y_val, y_pred))\n",
    "\n",
    "Y_pred = model.predict(X_val)\n",
    "y_pred = np.argmax(Y_pred, axis=1)\n",
    "\n",
    "print_confusion_matrix(y_val, y_pred, labels_name)"
   ]
  },
  {
   "cell_type": "markdown",
   "metadata": {},
   "source": [
    "# Conversión a modelo para Tensorflow-Lite"
   ]
  },
  {
   "cell_type": "code",
   "execution_count": 62,
   "metadata": {},
   "outputs": [],
   "source": [
    "# Guardar como modelo exclusivamente para inferencia\n",
    "model.save(model_save_path, include_optimizer=False)"
   ]
  },
  {
   "cell_type": "code",
   "execution_count": 63,
   "metadata": {},
   "outputs": [
    {
     "name": "stdout",
     "output_type": "stream",
     "text": [
      "INFO:tensorflow:Assets written to: C:\\Users\\GAMA\\AppData\\Local\\Temp\\tmpy1q2i3ea\\assets\n"
     ]
    },
    {
     "data": {
      "text/plain": [
       "10552"
      ]
     },
     "execution_count": 63,
     "metadata": {},
     "output_type": "execute_result"
    }
   ],
   "source": [
    "# Modelo de conversión (cuantificación)\n",
    "tflite_save_path = 'model/keypoint_classifier/keypoint_classifier.tflite'\n",
    "\n",
    "converter = tf.lite.TFLiteConverter.from_keras_model(model)\n",
    "converter.optimizations = [tf.lite.Optimize.DEFAULT]\n",
    "tflite_quantized_model = converter.convert()\n",
    "\n",
    "open(tflite_save_path, 'wb').write(tflite_quantized_model)"
   ]
  },
  {
   "cell_type": "markdown",
   "metadata": {},
   "source": [
    "# Prueba de inferencia"
   ]
  },
  {
   "cell_type": "code",
   "execution_count": 64,
   "metadata": {},
   "outputs": [],
   "source": [
    "interpreter = tf.lite.Interpreter(model_path=tflite_save_path)\n",
    "interpreter.allocate_tensors()"
   ]
  },
  {
   "cell_type": "code",
   "execution_count": 65,
   "metadata": {},
   "outputs": [],
   "source": [
    "# Obtener tensores de entrada y salida\n",
    "input_details = interpreter.get_input_details()\n",
    "output_details = interpreter.get_output_details()"
   ]
  },
  {
   "cell_type": "code",
   "execution_count": 66,
   "metadata": {},
   "outputs": [],
   "source": [
    "interpreter.set_tensor(input_details[0]['index'], np.array([X_val[0]]))"
   ]
  },
  {
   "cell_type": "code",
   "execution_count": 70,
   "metadata": {
    "scrolled": true
   },
   "outputs": [
    {
     "name": "stdout",
     "output_type": "stream",
     "text": [
      "CPU times: total: 0 ns\n",
      "Wall time: 0 ns\n"
     ]
    }
   ],
   "source": [
    "%%time\n",
    "# Realizar inferencia\n",
    "interpreter.invoke()\n",
    "tflite_results = interpreter.get_tensor(output_details[0]['index'])"
   ]
  },
  {
   "cell_type": "code",
   "execution_count": 71,
   "metadata": {},
   "outputs": [
    {
     "name": "stdout",
     "output_type": "stream",
     "text": [
      "[1.1496206e-03 5.2764415e-05 6.7247875e-06 8.1768612e-06 1.1377120e-08\n",
      " 9.9864739e-01 2.6464454e-08 1.3454925e-04 7.8628415e-07]\n",
      "5\n"
     ]
    }
   ],
   "source": [
    "print(np.squeeze(tflite_results))\n",
    "print(np.argmax(np.squeeze(tflite_results)))"
   ]
  }
 ],
 "metadata": {
  "kernelspec": {
   "display_name": "Python 3",
   "language": "python",
   "name": "python3"
  },
  "language_info": {
   "codemirror_mode": {
    "name": "ipython",
    "version": 3
   },
   "file_extension": ".py",
   "mimetype": "text/x-python",
   "name": "python",
   "nbconvert_exporter": "python",
   "pygments_lexer": "ipython3",
   "version": "3.10.11"
  }
 },
 "nbformat": 4,
 "nbformat_minor": 4
}
