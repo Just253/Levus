{
 "cells": [
  {
   "cell_type": "code",
   "execution_count": 28,
   "metadata": {},
   "outputs": [],
   "source": [
    "import csv\n",
    "\n",
    "import numpy as np\n",
    "import tensorflow as tf\n",
    "from sklearn.model_selection import train_test_split\n",
    "import keras\n",
    "\n",
    "RANDOM_SEED = 42"
   ]
  },
  {
   "cell_type": "code",
   "execution_count": 29,
   "metadata": {},
   "outputs": [
    {
     "name": "stdout",
     "output_type": "stream",
     "text": [
      "GPUs Available:  [PhysicalDevice(name='/physical_device:GPU:0', device_type='GPU')]\n"
     ]
    }
   ],
   "source": [
    "# Para la compatibilidad de GPU y tensorflow uso\n",
    "# tensorflow==2.10.1\n",
    "# cuda = 11.2\n",
    "# cudnn = 8.1.1\n",
    "# python = 3.10.9\n",
    "# https://www.tensorflow.org/install/source_windows?#gpu\n",
    "gpus = tf.config.experimental.list_physical_devices('GPU')\n",
    "if gpus:\n",
    "  print(\"GPUs Available: \", gpus)\n",
    "  try:\n",
    "    for gpu in gpus:\n",
    "      tf.config.experimental.set_memory_growth(gpu, True)\n",
    "  except RuntimeError as e:\n",
    "      print(e)"
   ]
  },
  {
   "cell_type": "markdown",
   "metadata": {},
   "source": [
    "# Especificación de cada ruta"
   ]
  },
  {
   "cell_type": "code",
   "execution_count": 30,
   "metadata": {},
   "outputs": [],
   "source": [
    "dataset = 'model/keypoint_classifier/keypoint.csv'\n",
    "model_save_path = 'model/keypoint_classifier/keypoint_classifier.keras'\n",
    "labels = 'model/keypoint_classifier/keypoint_classifier_label.csv'"
   ]
  },
  {
   "cell_type": "markdown",
   "metadata": {},
   "source": [
    "# Configuración del número de clasificaciones"
   ]
  },
  {
   "cell_type": "code",
   "execution_count": 31,
   "metadata": {},
   "outputs": [
    {
     "name": "stdout",
     "output_type": "stream",
     "text": [
      "['Open' 'Close' 'Pointer' 'mouse_up' 'mouse_down' 'mouse_right'\n",
      " 'mouse_left']\n"
     ]
    }
   ],
   "source": [
    "# Leer el contenido del archivo, eliminando el BOM si está presente\n",
    "with open(labels, 'r', encoding='utf-8-sig') as f:\n",
    "    content = f.read().splitlines()\n",
    "\n",
    "# Convertir el contenido a un array de NumPy\n",
    "labels_name = np.array(content, dtype=str)\n",
    "\n",
    "print(labels_name)\n",
    "NUM_CLASSES = len(labels_name)"
   ]
  },
  {
   "cell_type": "markdown",
   "metadata": {},
   "source": [
    "# Carga de datos de entrenamiento"
   ]
  },
  {
   "cell_type": "code",
   "execution_count": 32,
   "metadata": {},
   "outputs": [],
   "source": [
    "X_dataset = np.loadtxt(dataset, delimiter=',', dtype='float32', usecols=list(range(1, (21 * 2) + 1)))"
   ]
  },
  {
   "cell_type": "code",
   "execution_count": 33,
   "metadata": {},
   "outputs": [],
   "source": [
    "y_dataset = np.loadtxt(dataset, delimiter=',', dtype='int32', usecols=(0))"
   ]
  },
  {
   "cell_type": "code",
   "execution_count": 34,
   "metadata": {},
   "outputs": [],
   "source": [
    "X_train, X_test, y_train, y_test = train_test_split(X_dataset, y_dataset, train_size=0.60, random_state=RANDOM_SEED)"
   ]
  },
  {
   "cell_type": "code",
   "execution_count": 35,
   "metadata": {},
   "outputs": [],
   "source": [
    "X_test, X_val, y_test, y_val = train_test_split(X_test, y_test, train_size=0.5, random_state=RANDOM_SEED)"
   ]
  },
  {
   "cell_type": "markdown",
   "metadata": {},
   "source": [
    "# Construcción del modelo"
   ]
  },
  {
   "cell_type": "code",
   "execution_count": 36,
   "metadata": {},
   "outputs": [],
   "source": [
    "from keras.regularizers import l2\n",
    "model = keras.models.Sequential([\n",
    "    keras.layers.Input((21 * 2, )),\n",
    "    keras.layers.Dropout(0.2),\n",
    "    keras.layers.Dense(64, activation='relu', kernel_regularizer=l2(0.001)),\n",
    "    keras.layers.Dropout(0.4),\n",
    "    keras.layers.Dense(32, activation='relu', kernel_regularizer=l2(0.001)),\n",
    "    keras.layers.Dropout(0.4),\n",
    "    keras.layers.Dense(16, activation='relu'),\n",
    "    keras.layers.Dense(NUM_CLASSES, activation='softmax')\n",
    "])"
   ]
  },
  {
   "cell_type": "code",
   "execution_count": 37,
   "metadata": {},
   "outputs": [
    {
     "name": "stdout",
     "output_type": "stream",
     "text": [
      "Model: \"sequential_1\"\n",
      "_________________________________________________________________\n",
      " Layer (type)                Output Shape              Param #   \n",
      "=================================================================\n",
      " dropout_3 (Dropout)         (None, 42)                0         \n",
      "                                                                 \n",
      " dense_4 (Dense)             (None, 64)                2752      \n",
      "                                                                 \n",
      " dropout_4 (Dropout)         (None, 64)                0         \n",
      "                                                                 \n",
      " dense_5 (Dense)             (None, 32)                2080      \n",
      "                                                                 \n",
      " dropout_5 (Dropout)         (None, 32)                0         \n",
      "                                                                 \n",
      " dense_6 (Dense)             (None, 16)                528       \n",
      "                                                                 \n",
      " dense_7 (Dense)             (None, 7)                 119       \n",
      "                                                                 \n",
      "=================================================================\n",
      "Total params: 5,479\n",
      "Trainable params: 5,479\n",
      "Non-trainable params: 0\n",
      "_________________________________________________________________\n"
     ]
    }
   ],
   "source": [
    "model.summary()  # tf.keras.utils.plot_model(model, show_shapes=True)"
   ]
  },
  {
   "cell_type": "code",
   "execution_count": 38,
   "metadata": {},
   "outputs": [],
   "source": [
    "# Callback de punto de control del modelo\n",
    "cp_callback = keras.callbacks.ModelCheckpoint(\n",
    "    model_save_path, verbose=1, save_weights_only=False)\n",
    "# Callback para detención temprana\n",
    "es_callback = tf.keras.callbacks.EarlyStopping(patience=10, verbose=1)"
   ]
  },
  {
   "cell_type": "code",
   "execution_count": 39,
   "metadata": {},
   "outputs": [],
   "source": [
    "# Compilación del modelo\n",
    "model.compile(\n",
    "    optimizer='adam',\n",
    "    loss='sparse_categorical_crossentropy',\n",
    "    metrics=['accuracy']\n",
    ")"
   ]
  },
  {
   "cell_type": "markdown",
   "metadata": {},
   "source": [
    "# Entrenamiento del modelo"
   ]
  },
  {
   "cell_type": "code",
   "execution_count": 40,
   "metadata": {},
   "outputs": [
    {
     "name": "stdout",
     "output_type": "stream",
     "text": [
      "Epoch 1/100\n",
      "63/65 [============================>.] - ETA: 0s - loss: 1.7226 - accuracy: 0.4417\n",
      "Epoch 1: saving model to model/keypoint_classifier\\keypoint_classifier.keras\n",
      "65/65 [==============================] - 1s 11ms/step - loss: 1.7172 - accuracy: 0.4438 - val_loss: 1.2358 - val_accuracy: 0.6594\n",
      "Epoch 2/100\n",
      "57/65 [=========================>....] - ETA: 0s - loss: 1.2744 - accuracy: 0.6160\n",
      "Epoch 2: saving model to model/keypoint_classifier\\keypoint_classifier.keras\n",
      "65/65 [==============================] - 1s 8ms/step - loss: 1.2641 - accuracy: 0.6161 - val_loss: 0.9217 - val_accuracy: 0.6849\n",
      "Epoch 3/100\n",
      "57/65 [=========================>....] - ETA: 0s - loss: 1.1126 - accuracy: 0.6549\n",
      "Epoch 3: saving model to model/keypoint_classifier\\keypoint_classifier.keras\n",
      "65/65 [==============================] - 0s 7ms/step - loss: 1.1114 - accuracy: 0.6538 - val_loss: 0.8313 - val_accuracy: 0.7202\n",
      "Epoch 4/100\n",
      "59/65 [==========================>...] - ETA: 0s - loss: 1.0184 - accuracy: 0.6798\n",
      "Epoch 4: saving model to model/keypoint_classifier\\keypoint_classifier.keras\n",
      "65/65 [==============================] - 0s 8ms/step - loss: 1.0149 - accuracy: 0.6803 - val_loss: 0.7785 - val_accuracy: 0.7271\n",
      "Epoch 5/100\n",
      "57/65 [=========================>....] - ETA: 0s - loss: 0.9681 - accuracy: 0.6865\n",
      "Epoch 5: saving model to model/keypoint_classifier\\keypoint_classifier.keras\n",
      "65/65 [==============================] - 1s 11ms/step - loss: 0.9665 - accuracy: 0.6878 - val_loss: 0.7258 - val_accuracy: 0.7621\n",
      "Epoch 6/100\n",
      "62/65 [===========================>..] - ETA: 0s - loss: 0.9227 - accuracy: 0.7073\n",
      "Epoch 6: saving model to model/keypoint_classifier\\keypoint_classifier.keras\n",
      "65/65 [==============================] - 1s 11ms/step - loss: 0.9214 - accuracy: 0.7080 - val_loss: 0.6785 - val_accuracy: 0.7683\n",
      "Epoch 7/100\n",
      "65/65 [==============================] - ETA: 0s - loss: 0.8817 - accuracy: 0.7187\n",
      "Epoch 7: saving model to model/keypoint_classifier\\keypoint_classifier.keras\n",
      "65/65 [==============================] - 1s 8ms/step - loss: 0.8817 - accuracy: 0.7187 - val_loss: 0.6427 - val_accuracy: 0.7894\n",
      "Epoch 8/100\n",
      "57/65 [=========================>....] - ETA: 0s - loss: 0.8564 - accuracy: 0.7307\n",
      "Epoch 8: saving model to model/keypoint_classifier\\keypoint_classifier.keras\n",
      "65/65 [==============================] - 1s 8ms/step - loss: 0.8566 - accuracy: 0.7296 - val_loss: 0.6018 - val_accuracy: 0.8117\n",
      "Epoch 9/100\n",
      "59/65 [==========================>...] - ETA: 0s - loss: 0.8266 - accuracy: 0.7464\n",
      "Epoch 9: saving model to model/keypoint_classifier\\keypoint_classifier.keras\n",
      "65/65 [==============================] - 0s 6ms/step - loss: 0.8269 - accuracy: 0.7463 - val_loss: 0.5684 - val_accuracy: 0.8226\n",
      "Epoch 10/100\n",
      "60/65 [==========================>...] - ETA: 0s - loss: 0.7931 - accuracy: 0.7559\n",
      "Epoch 10: saving model to model/keypoint_classifier\\keypoint_classifier.keras\n",
      "65/65 [==============================] - 1s 8ms/step - loss: 0.7928 - accuracy: 0.7553 - val_loss: 0.5440 - val_accuracy: 0.8255\n",
      "Epoch 11/100\n",
      "61/65 [===========================>..] - ETA: 0s - loss: 0.7600 - accuracy: 0.7597\n",
      "Epoch 11: saving model to model/keypoint_classifier\\keypoint_classifier.keras\n",
      "65/65 [==============================] - 0s 6ms/step - loss: 0.7582 - accuracy: 0.7608 - val_loss: 0.5068 - val_accuracy: 0.8397\n",
      "Epoch 12/100\n",
      "60/65 [==========================>...] - ETA: 0s - loss: 0.7459 - accuracy: 0.7703\n",
      "Epoch 12: saving model to model/keypoint_classifier\\keypoint_classifier.keras\n",
      "65/65 [==============================] - 0s 6ms/step - loss: 0.7452 - accuracy: 0.7709 - val_loss: 0.4969 - val_accuracy: 0.8459\n",
      "Epoch 13/100\n",
      "53/65 [=======================>......] - ETA: 0s - loss: 0.7250 - accuracy: 0.7739\n",
      "Epoch 13: saving model to model/keypoint_classifier\\keypoint_classifier.keras\n",
      "65/65 [==============================] - 0s 5ms/step - loss: 0.7293 - accuracy: 0.7734 - val_loss: 0.4784 - val_accuracy: 0.8477\n",
      "Epoch 14/100\n",
      "60/65 [==========================>...] - ETA: 0s - loss: 0.7299 - accuracy: 0.7743\n",
      "Epoch 14: saving model to model/keypoint_classifier\\keypoint_classifier.keras\n",
      "65/65 [==============================] - 0s 7ms/step - loss: 0.7294 - accuracy: 0.7743 - val_loss: 0.4644 - val_accuracy: 0.8561\n",
      "Epoch 15/100\n",
      "62/65 [===========================>..] - ETA: 0s - loss: 0.7047 - accuracy: 0.7814\n",
      "Epoch 15: saving model to model/keypoint_classifier\\keypoint_classifier.keras\n",
      "65/65 [==============================] - 1s 8ms/step - loss: 0.7031 - accuracy: 0.7809 - val_loss: 0.4555 - val_accuracy: 0.8601\n",
      "Epoch 16/100\n",
      "60/65 [==========================>...] - ETA: 0s - loss: 0.6776 - accuracy: 0.7908\n",
      "Epoch 16: saving model to model/keypoint_classifier\\keypoint_classifier.keras\n",
      "65/65 [==============================] - 0s 6ms/step - loss: 0.6838 - accuracy: 0.7897 - val_loss: 0.4369 - val_accuracy: 0.8670\n",
      "Epoch 17/100\n",
      "58/65 [=========================>....] - ETA: 0s - loss: 0.6646 - accuracy: 0.7967\n",
      "Epoch 17: saving model to model/keypoint_classifier\\keypoint_classifier.keras\n",
      "65/65 [==============================] - 0s 6ms/step - loss: 0.6649 - accuracy: 0.7967 - val_loss: 0.4320 - val_accuracy: 0.8685\n",
      "Epoch 18/100\n",
      "57/65 [=========================>....] - ETA: 0s - loss: 0.6758 - accuracy: 0.7954\n",
      "Epoch 18: saving model to model/keypoint_classifier\\keypoint_classifier.keras\n",
      "65/65 [==============================] - 0s 7ms/step - loss: 0.6784 - accuracy: 0.7942 - val_loss: 0.4284 - val_accuracy: 0.8769\n",
      "Epoch 19/100\n",
      "65/65 [==============================] - ETA: 0s - loss: 0.6522 - accuracy: 0.7948\n",
      "Epoch 19: saving model to model/keypoint_classifier\\keypoint_classifier.keras\n",
      "65/65 [==============================] - 1s 10ms/step - loss: 0.6522 - accuracy: 0.7948 - val_loss: 0.4133 - val_accuracy: 0.8783\n",
      "Epoch 20/100\n",
      "64/65 [============================>.] - ETA: 0s - loss: 0.6410 - accuracy: 0.7972\n",
      "Epoch 20: saving model to model/keypoint_classifier\\keypoint_classifier.keras\n",
      "65/65 [==============================] - 1s 10ms/step - loss: 0.6400 - accuracy: 0.7975 - val_loss: 0.3948 - val_accuracy: 0.8856\n",
      "Epoch 21/100\n",
      "62/65 [===========================>..] - ETA: 0s - loss: 0.6268 - accuracy: 0.8083\n",
      "Epoch 21: saving model to model/keypoint_classifier\\keypoint_classifier.keras\n",
      "65/65 [==============================] - 0s 7ms/step - loss: 0.6264 - accuracy: 0.8086 - val_loss: 0.3854 - val_accuracy: 0.8929\n",
      "Epoch 22/100\n",
      "58/65 [=========================>....] - ETA: 0s - loss: 0.6317 - accuracy: 0.8059\n",
      "Epoch 22: saving model to model/keypoint_classifier\\keypoint_classifier.keras\n",
      "65/65 [==============================] - 0s 7ms/step - loss: 0.6279 - accuracy: 0.8081 - val_loss: 0.3819 - val_accuracy: 0.8995\n",
      "Epoch 23/100\n",
      "60/65 [==========================>...] - ETA: 0s - loss: 0.6226 - accuracy: 0.8096\n",
      "Epoch 23: saving model to model/keypoint_classifier\\keypoint_classifier.keras\n",
      "65/65 [==============================] - 1s 9ms/step - loss: 0.6241 - accuracy: 0.8093 - val_loss: 0.3735 - val_accuracy: 0.9005\n",
      "Epoch 24/100\n",
      "56/65 [========================>.....] - ETA: 0s - loss: 0.6024 - accuracy: 0.8188\n",
      "Epoch 24: saving model to model/keypoint_classifier\\keypoint_classifier.keras\n",
      "65/65 [==============================] - 0s 6ms/step - loss: 0.6035 - accuracy: 0.8182 - val_loss: 0.3730 - val_accuracy: 0.8933\n",
      "Epoch 25/100\n",
      "61/65 [===========================>..] - ETA: 0s - loss: 0.5971 - accuracy: 0.8202\n",
      "Epoch 25: saving model to model/keypoint_classifier\\keypoint_classifier.keras\n",
      "65/65 [==============================] - 0s 8ms/step - loss: 0.5999 - accuracy: 0.8201 - val_loss: 0.3583 - val_accuracy: 0.9064\n",
      "Epoch 26/100\n",
      "61/65 [===========================>..] - ETA: 0s - loss: 0.6007 - accuracy: 0.8234\n",
      "Epoch 26: saving model to model/keypoint_classifier\\keypoint_classifier.keras\n",
      "65/65 [==============================] - 1s 8ms/step - loss: 0.5984 - accuracy: 0.8235 - val_loss: 0.3554 - val_accuracy: 0.9038\n",
      "Epoch 27/100\n",
      "58/65 [=========================>....] - ETA: 0s - loss: 0.5949 - accuracy: 0.8210\n",
      "Epoch 27: saving model to model/keypoint_classifier\\keypoint_classifier.keras\n",
      "65/65 [==============================] - 0s 6ms/step - loss: 0.5882 - accuracy: 0.8230 - val_loss: 0.3543 - val_accuracy: 0.9027\n",
      "Epoch 28/100\n",
      "60/65 [==========================>...] - ETA: 0s - loss: 0.5843 - accuracy: 0.8245\n",
      "Epoch 28: saving model to model/keypoint_classifier\\keypoint_classifier.keras\n",
      "65/65 [==============================] - 1s 8ms/step - loss: 0.5827 - accuracy: 0.8250 - val_loss: 0.3418 - val_accuracy: 0.9111\n",
      "Epoch 29/100\n",
      "57/65 [=========================>....] - ETA: 0s - loss: 0.5760 - accuracy: 0.8240\n",
      "Epoch 29: saving model to model/keypoint_classifier\\keypoint_classifier.keras\n",
      "65/65 [==============================] - 0s 7ms/step - loss: 0.5778 - accuracy: 0.8235 - val_loss: 0.3302 - val_accuracy: 0.9217\n",
      "Epoch 30/100\n",
      "64/65 [============================>.] - ETA: 0s - loss: 0.5492 - accuracy: 0.8365\n",
      "Epoch 30: saving model to model/keypoint_classifier\\keypoint_classifier.keras\n",
      "65/65 [==============================] - 0s 7ms/step - loss: 0.5491 - accuracy: 0.8364 - val_loss: 0.3283 - val_accuracy: 0.9173\n",
      "Epoch 31/100\n",
      "55/65 [========================>.....] - ETA: 0s - loss: 0.5531 - accuracy: 0.8342\n",
      "Epoch 31: saving model to model/keypoint_classifier\\keypoint_classifier.keras\n",
      "65/65 [==============================] - 0s 8ms/step - loss: 0.5509 - accuracy: 0.8352 - val_loss: 0.3345 - val_accuracy: 0.9180\n",
      "Epoch 32/100\n",
      "63/65 [============================>.] - ETA: 0s - loss: 0.5540 - accuracy: 0.8315\n",
      "Epoch 32: saving model to model/keypoint_classifier\\keypoint_classifier.keras\n",
      "65/65 [==============================] - 1s 8ms/step - loss: 0.5558 - accuracy: 0.8313 - val_loss: 0.3206 - val_accuracy: 0.9191\n",
      "Epoch 33/100\n",
      "57/65 [=========================>....] - ETA: 0s - loss: 0.5548 - accuracy: 0.8302\n",
      "Epoch 33: saving model to model/keypoint_classifier\\keypoint_classifier.keras\n",
      "65/65 [==============================] - 1s 8ms/step - loss: 0.5535 - accuracy: 0.8306 - val_loss: 0.3168 - val_accuracy: 0.9217\n",
      "Epoch 34/100\n",
      "62/65 [===========================>..] - ETA: 0s - loss: 0.5361 - accuracy: 0.8411\n",
      "Epoch 34: saving model to model/keypoint_classifier\\keypoint_classifier.keras\n",
      "65/65 [==============================] - 1s 9ms/step - loss: 0.5369 - accuracy: 0.8405 - val_loss: 0.3132 - val_accuracy: 0.9264\n",
      "Epoch 35/100\n",
      "57/65 [=========================>....] - ETA: 0s - loss: 0.5437 - accuracy: 0.8348\n",
      "Epoch 35: saving model to model/keypoint_classifier\\keypoint_classifier.keras\n",
      "65/65 [==============================] - 0s 7ms/step - loss: 0.5391 - accuracy: 0.8364 - val_loss: 0.3111 - val_accuracy: 0.9286\n",
      "Epoch 36/100\n",
      "58/65 [=========================>....] - ETA: 0s - loss: 0.5364 - accuracy: 0.8386\n",
      "Epoch 36: saving model to model/keypoint_classifier\\keypoint_classifier.keras\n",
      "65/65 [==============================] - 0s 6ms/step - loss: 0.5383 - accuracy: 0.8377 - val_loss: 0.3027 - val_accuracy: 0.9315\n",
      "Epoch 37/100\n",
      "58/65 [=========================>....] - ETA: 0s - loss: 0.5258 - accuracy: 0.8447\n",
      "Epoch 37: saving model to model/keypoint_classifier\\keypoint_classifier.keras\n",
      "65/65 [==============================] - 0s 7ms/step - loss: 0.5239 - accuracy: 0.8454 - val_loss: 0.3015 - val_accuracy: 0.9213\n",
      "Epoch 38/100\n",
      "64/65 [============================>.] - ETA: 0s - loss: 0.5204 - accuracy: 0.8441\n",
      "Epoch 38: saving model to model/keypoint_classifier\\keypoint_classifier.keras\n",
      "65/65 [==============================] - 0s 7ms/step - loss: 0.5214 - accuracy: 0.8433 - val_loss: 0.2914 - val_accuracy: 0.9337\n",
      "Epoch 39/100\n",
      "56/65 [========================>.....] - ETA: 0s - loss: 0.5124 - accuracy: 0.8435\n",
      "Epoch 39: saving model to model/keypoint_classifier\\keypoint_classifier.keras\n",
      "65/65 [==============================] - 1s 8ms/step - loss: 0.5134 - accuracy: 0.8440 - val_loss: 0.2912 - val_accuracy: 0.9322\n",
      "Epoch 40/100\n",
      "61/65 [===========================>..] - ETA: 0s - loss: 0.5165 - accuracy: 0.8463\n",
      "Epoch 40: saving model to model/keypoint_classifier\\keypoint_classifier.keras\n",
      "65/65 [==============================] - 0s 6ms/step - loss: 0.5187 - accuracy: 0.8456 - val_loss: 0.2918 - val_accuracy: 0.9326\n",
      "Epoch 41/100\n",
      "62/65 [===========================>..] - ETA: 0s - loss: 0.5035 - accuracy: 0.8514\n",
      "Epoch 41: saving model to model/keypoint_classifier\\keypoint_classifier.keras\n",
      "65/65 [==============================] - 0s 6ms/step - loss: 0.5027 - accuracy: 0.8513 - val_loss: 0.2923 - val_accuracy: 0.9293\n",
      "Epoch 42/100\n",
      "63/65 [============================>.] - ETA: 0s - loss: 0.5123 - accuracy: 0.8513\n",
      "Epoch 42: saving model to model/keypoint_classifier\\keypoint_classifier.keras\n",
      "65/65 [==============================] - 1s 8ms/step - loss: 0.5123 - accuracy: 0.8511 - val_loss: 0.2862 - val_accuracy: 0.9304\n",
      "Epoch 43/100\n",
      "64/65 [============================>.] - ETA: 0s - loss: 0.5026 - accuracy: 0.8557\n",
      "Epoch 43: saving model to model/keypoint_classifier\\keypoint_classifier.keras\n",
      "65/65 [==============================] - 0s 7ms/step - loss: 0.5021 - accuracy: 0.8558 - val_loss: 0.2847 - val_accuracy: 0.9341\n",
      "Epoch 44/100\n",
      "56/65 [========================>.....] - ETA: 0s - loss: 0.5040 - accuracy: 0.8491\n",
      "Epoch 44: saving model to model/keypoint_classifier\\keypoint_classifier.keras\n",
      "65/65 [==============================] - 0s 7ms/step - loss: 0.5018 - accuracy: 0.8501 - val_loss: 0.2751 - val_accuracy: 0.9392\n",
      "Epoch 45/100\n",
      "64/65 [============================>.] - ETA: 0s - loss: 0.4927 - accuracy: 0.8533\n",
      "Epoch 45: saving model to model/keypoint_classifier\\keypoint_classifier.keras\n",
      "65/65 [==============================] - 0s 6ms/step - loss: 0.4922 - accuracy: 0.8535 - val_loss: 0.2677 - val_accuracy: 0.9392\n",
      "Epoch 46/100\n",
      "56/65 [========================>.....] - ETA: 0s - loss: 0.4900 - accuracy: 0.8555\n",
      "Epoch 46: saving model to model/keypoint_classifier\\keypoint_classifier.keras\n",
      "65/65 [==============================] - 0s 6ms/step - loss: 0.4945 - accuracy: 0.8556 - val_loss: 0.2651 - val_accuracy: 0.9403\n",
      "Epoch 47/100\n",
      "54/65 [=======================>......] - ETA: 0s - loss: 0.4953 - accuracy: 0.8547\n",
      "Epoch 47: saving model to model/keypoint_classifier\\keypoint_classifier.keras\n",
      "65/65 [==============================] - 0s 7ms/step - loss: 0.4931 - accuracy: 0.8541 - val_loss: 0.2653 - val_accuracy: 0.9417\n",
      "Epoch 48/100\n",
      "64/65 [============================>.] - ETA: 0s - loss: 0.4826 - accuracy: 0.8608\n",
      "Epoch 48: saving model to model/keypoint_classifier\\keypoint_classifier.keras\n",
      "65/65 [==============================] - 0s 6ms/step - loss: 0.4823 - accuracy: 0.8610 - val_loss: 0.2641 - val_accuracy: 0.9421\n",
      "Epoch 49/100\n",
      "56/65 [========================>.....] - ETA: 0s - loss: 0.4855 - accuracy: 0.8654\n",
      "Epoch 49: saving model to model/keypoint_classifier\\keypoint_classifier.keras\n",
      "65/65 [==============================] - 0s 6ms/step - loss: 0.4826 - accuracy: 0.8646 - val_loss: 0.2670 - val_accuracy: 0.9413\n",
      "Epoch 50/100\n",
      "62/65 [===========================>..] - ETA: 0s - loss: 0.4675 - accuracy: 0.8672\n",
      "Epoch 50: saving model to model/keypoint_classifier\\keypoint_classifier.keras\n",
      "65/65 [==============================] - 0s 6ms/step - loss: 0.4667 - accuracy: 0.8678 - val_loss: 0.2545 - val_accuracy: 0.9464\n",
      "Epoch 51/100\n",
      "63/65 [============================>.] - ETA: 0s - loss: 0.4834 - accuracy: 0.8615\n",
      "Epoch 51: saving model to model/keypoint_classifier\\keypoint_classifier.keras\n",
      "65/65 [==============================] - 0s 6ms/step - loss: 0.4840 - accuracy: 0.8608 - val_loss: 0.2632 - val_accuracy: 0.9384\n",
      "Epoch 52/100\n",
      "65/65 [==============================] - ETA: 0s - loss: 0.4670 - accuracy: 0.8659\n",
      "Epoch 52: saving model to model/keypoint_classifier\\keypoint_classifier.keras\n",
      "65/65 [==============================] - 1s 8ms/step - loss: 0.4670 - accuracy: 0.8659 - val_loss: 0.2504 - val_accuracy: 0.9479\n",
      "Epoch 53/100\n",
      "59/65 [==========================>...] - ETA: 0s - loss: 0.4789 - accuracy: 0.8628\n",
      "Epoch 53: saving model to model/keypoint_classifier\\keypoint_classifier.keras\n",
      "65/65 [==============================] - 0s 6ms/step - loss: 0.4789 - accuracy: 0.8617 - val_loss: 0.2513 - val_accuracy: 0.9468\n",
      "Epoch 54/100\n",
      "58/65 [=========================>....] - ETA: 0s - loss: 0.4682 - accuracy: 0.8642\n",
      "Epoch 54: saving model to model/keypoint_classifier\\keypoint_classifier.keras\n",
      "65/65 [==============================] - 0s 6ms/step - loss: 0.4684 - accuracy: 0.8637 - val_loss: 0.2498 - val_accuracy: 0.9413\n",
      "Epoch 55/100\n",
      "60/65 [==========================>...] - ETA: 0s - loss: 0.4575 - accuracy: 0.8695\n",
      "Epoch 55: saving model to model/keypoint_classifier\\keypoint_classifier.keras\n",
      "65/65 [==============================] - 0s 6ms/step - loss: 0.4556 - accuracy: 0.8714 - val_loss: 0.2518 - val_accuracy: 0.9454\n",
      "Epoch 56/100\n",
      "57/65 [=========================>....] - ETA: 0s - loss: 0.4632 - accuracy: 0.8671\n",
      "Epoch 56: saving model to model/keypoint_classifier\\keypoint_classifier.keras\n",
      "65/65 [==============================] - 0s 7ms/step - loss: 0.4589 - accuracy: 0.8689 - val_loss: 0.2422 - val_accuracy: 0.9468\n",
      "Epoch 57/100\n",
      "63/65 [============================>.] - ETA: 0s - loss: 0.4524 - accuracy: 0.8739\n",
      "Epoch 57: saving model to model/keypoint_classifier\\keypoint_classifier.keras\n",
      "65/65 [==============================] - 0s 8ms/step - loss: 0.4536 - accuracy: 0.8736 - val_loss: 0.2480 - val_accuracy: 0.9446\n",
      "Epoch 58/100\n",
      "60/65 [==========================>...] - ETA: 0s - loss: 0.4622 - accuracy: 0.8672\n",
      "Epoch 58: saving model to model/keypoint_classifier\\keypoint_classifier.keras\n",
      "65/65 [==============================] - 0s 6ms/step - loss: 0.4641 - accuracy: 0.8655 - val_loss: 0.2469 - val_accuracy: 0.9443\n",
      "Epoch 59/100\n",
      "55/65 [========================>.....] - ETA: 0s - loss: 0.4448 - accuracy: 0.8741\n",
      "Epoch 59: saving model to model/keypoint_classifier\\keypoint_classifier.keras\n",
      "65/65 [==============================] - 0s 6ms/step - loss: 0.4512 - accuracy: 0.8710 - val_loss: 0.2460 - val_accuracy: 0.9472\n",
      "Epoch 60/100\n",
      "60/65 [==========================>...] - ETA: 0s - loss: 0.4638 - accuracy: 0.8684\n",
      "Epoch 60: saving model to model/keypoint_classifier\\keypoint_classifier.keras\n",
      "65/65 [==============================] - 0s 7ms/step - loss: 0.4628 - accuracy: 0.8689 - val_loss: 0.2380 - val_accuracy: 0.9505\n",
      "Epoch 61/100\n",
      "55/65 [========================>.....] - ETA: 0s - loss: 0.4667 - accuracy: 0.8661\n",
      "Epoch 61: saving model to model/keypoint_classifier\\keypoint_classifier.keras\n",
      "65/65 [==============================] - 0s 7ms/step - loss: 0.4634 - accuracy: 0.8683 - val_loss: 0.2357 - val_accuracy: 0.9475\n",
      "Epoch 62/100\n",
      "55/65 [========================>.....] - ETA: 0s - loss: 0.4511 - accuracy: 0.8699\n",
      "Epoch 62: saving model to model/keypoint_classifier\\keypoint_classifier.keras\n",
      "65/65 [==============================] - 0s 6ms/step - loss: 0.4496 - accuracy: 0.8726 - val_loss: 0.2476 - val_accuracy: 0.9435\n",
      "Epoch 63/100\n",
      "60/65 [==========================>...] - ETA: 0s - loss: 0.4420 - accuracy: 0.8754\n",
      "Epoch 63: saving model to model/keypoint_classifier\\keypoint_classifier.keras\n",
      "65/65 [==============================] - 0s 7ms/step - loss: 0.4390 - accuracy: 0.8768 - val_loss: 0.2317 - val_accuracy: 0.9494\n",
      "Epoch 64/100\n",
      "56/65 [========================>.....] - ETA: 0s - loss: 0.4406 - accuracy: 0.8774\n",
      "Epoch 64: saving model to model/keypoint_classifier\\keypoint_classifier.keras\n",
      "65/65 [==============================] - 0s 6ms/step - loss: 0.4389 - accuracy: 0.8770 - val_loss: 0.2333 - val_accuracy: 0.9508\n",
      "Epoch 65/100\n",
      "55/65 [========================>.....] - ETA: 0s - loss: 0.4459 - accuracy: 0.8716\n",
      "Epoch 65: saving model to model/keypoint_classifier\\keypoint_classifier.keras\n",
      "65/65 [==============================] - 0s 5ms/step - loss: 0.4453 - accuracy: 0.8711 - val_loss: 0.2276 - val_accuracy: 0.9494\n",
      "Epoch 66/100\n",
      "57/65 [=========================>....] - ETA: 0s - loss: 0.4429 - accuracy: 0.8734\n",
      "Epoch 66: saving model to model/keypoint_classifier\\keypoint_classifier.keras\n",
      "65/65 [==============================] - 0s 6ms/step - loss: 0.4420 - accuracy: 0.8732 - val_loss: 0.2271 - val_accuracy: 0.9537\n",
      "Epoch 67/100\n",
      "57/65 [=========================>....] - ETA: 0s - loss: 0.4413 - accuracy: 0.8749\n",
      "Epoch 67: saving model to model/keypoint_classifier\\keypoint_classifier.keras\n",
      "65/65 [==============================] - 0s 6ms/step - loss: 0.4435 - accuracy: 0.8744 - val_loss: 0.2310 - val_accuracy: 0.9486\n",
      "Epoch 68/100\n",
      "63/65 [============================>.] - ETA: 0s - loss: 0.4426 - accuracy: 0.8748\n",
      "Epoch 68: saving model to model/keypoint_classifier\\keypoint_classifier.keras\n",
      "65/65 [==============================] - 0s 7ms/step - loss: 0.4427 - accuracy: 0.8745 - val_loss: 0.2276 - val_accuracy: 0.9512\n",
      "Epoch 69/100\n",
      "62/65 [===========================>..] - ETA: 0s - loss: 0.4378 - accuracy: 0.8759\n",
      "Epoch 69: saving model to model/keypoint_classifier\\keypoint_classifier.keras\n",
      "65/65 [==============================] - 0s 6ms/step - loss: 0.4368 - accuracy: 0.8761 - val_loss: 0.2300 - val_accuracy: 0.9486\n",
      "Epoch 70/100\n",
      "54/65 [=======================>......] - ETA: 0s - loss: 0.4277 - accuracy: 0.8785\n",
      "Epoch 70: saving model to model/keypoint_classifier\\keypoint_classifier.keras\n",
      "65/65 [==============================] - 0s 6ms/step - loss: 0.4259 - accuracy: 0.8784 - val_loss: 0.2239 - val_accuracy: 0.9581\n",
      "Epoch 71/100\n",
      "57/65 [=========================>....] - ETA: 0s - loss: 0.4442 - accuracy: 0.8723\n",
      "Epoch 71: saving model to model/keypoint_classifier\\keypoint_classifier.keras\n",
      "65/65 [==============================] - 0s 6ms/step - loss: 0.4420 - accuracy: 0.8730 - val_loss: 0.2316 - val_accuracy: 0.9494\n",
      "Epoch 72/100\n",
      "58/65 [=========================>....] - ETA: 0s - loss: 0.4324 - accuracy: 0.8778\n",
      "Epoch 72: saving model to model/keypoint_classifier\\keypoint_classifier.keras\n",
      "65/65 [==============================] - 0s 6ms/step - loss: 0.4330 - accuracy: 0.8778 - val_loss: 0.2236 - val_accuracy: 0.9523\n",
      "Epoch 73/100\n",
      "62/65 [===========================>..] - ETA: 0s - loss: 0.4241 - accuracy: 0.8787\n",
      "Epoch 73: saving model to model/keypoint_classifier\\keypoint_classifier.keras\n",
      "65/65 [==============================] - 0s 8ms/step - loss: 0.4231 - accuracy: 0.8788 - val_loss: 0.2217 - val_accuracy: 0.9537\n",
      "Epoch 74/100\n",
      "63/65 [============================>.] - ETA: 0s - loss: 0.4298 - accuracy: 0.8771\n",
      "Epoch 74: saving model to model/keypoint_classifier\\keypoint_classifier.keras\n",
      "65/65 [==============================] - 0s 6ms/step - loss: 0.4285 - accuracy: 0.8772 - val_loss: 0.2234 - val_accuracy: 0.9537\n",
      "Epoch 75/100\n",
      "58/65 [=========================>....] - ETA: 0s - loss: 0.4372 - accuracy: 0.8732\n",
      "Epoch 75: saving model to model/keypoint_classifier\\keypoint_classifier.keras\n",
      "65/65 [==============================] - 0s 6ms/step - loss: 0.4349 - accuracy: 0.8739 - val_loss: 0.2268 - val_accuracy: 0.9515\n",
      "Epoch 76/100\n",
      "57/65 [=========================>....] - ETA: 0s - loss: 0.4233 - accuracy: 0.8836\n",
      "Epoch 76: saving model to model/keypoint_classifier\\keypoint_classifier.keras\n",
      "65/65 [==============================] - 0s 6ms/step - loss: 0.4229 - accuracy: 0.8821 - val_loss: 0.2225 - val_accuracy: 0.9512\n",
      "Epoch 77/100\n",
      "59/65 [==========================>...] - ETA: 0s - loss: 0.4253 - accuracy: 0.8787\n",
      "Epoch 77: saving model to model/keypoint_classifier\\keypoint_classifier.keras\n",
      "65/65 [==============================] - 0s 6ms/step - loss: 0.4271 - accuracy: 0.8782 - val_loss: 0.2260 - val_accuracy: 0.9534\n",
      "Epoch 78/100\n",
      "57/65 [=========================>....] - ETA: 0s - loss: 0.4320 - accuracy: 0.8757\n",
      "Epoch 78: saving model to model/keypoint_classifier\\keypoint_classifier.keras\n",
      "65/65 [==============================] - 1s 9ms/step - loss: 0.4356 - accuracy: 0.8743 - val_loss: 0.2193 - val_accuracy: 0.9534\n",
      "Epoch 79/100\n",
      "62/65 [===========================>..] - ETA: 0s - loss: 0.4170 - accuracy: 0.8805\n",
      "Epoch 79: saving model to model/keypoint_classifier\\keypoint_classifier.keras\n",
      "65/65 [==============================] - 0s 7ms/step - loss: 0.4204 - accuracy: 0.8799 - val_loss: 0.2182 - val_accuracy: 0.9526\n",
      "Epoch 80/100\n",
      "60/65 [==========================>...] - ETA: 0s - loss: 0.4238 - accuracy: 0.8806\n",
      "Epoch 80: saving model to model/keypoint_classifier\\keypoint_classifier.keras\n",
      "65/65 [==============================] - 1s 8ms/step - loss: 0.4248 - accuracy: 0.8801 - val_loss: 0.2246 - val_accuracy: 0.9479\n",
      "Epoch 81/100\n",
      "57/65 [=========================>....] - ETA: 0s - loss: 0.4113 - accuracy: 0.8865\n",
      "Epoch 81: saving model to model/keypoint_classifier\\keypoint_classifier.keras\n",
      "65/65 [==============================] - 0s 7ms/step - loss: 0.4141 - accuracy: 0.8869 - val_loss: 0.2151 - val_accuracy: 0.9563\n",
      "Epoch 82/100\n",
      "59/65 [==========================>...] - ETA: 0s - loss: 0.4245 - accuracy: 0.8783\n",
      "Epoch 82: saving model to model/keypoint_classifier\\keypoint_classifier.keras\n",
      "65/65 [==============================] - 1s 8ms/step - loss: 0.4209 - accuracy: 0.8785 - val_loss: 0.2403 - val_accuracy: 0.9370\n",
      "Epoch 83/100\n",
      "63/65 [============================>.] - ETA: 0s - loss: 0.4260 - accuracy: 0.8750\n",
      "Epoch 83: saving model to model/keypoint_classifier\\keypoint_classifier.keras\n",
      "65/65 [==============================] - 0s 6ms/step - loss: 0.4244 - accuracy: 0.8753 - val_loss: 0.2175 - val_accuracy: 0.9537\n",
      "Epoch 84/100\n",
      "60/65 [==========================>...] - ETA: 0s - loss: 0.4231 - accuracy: 0.8771\n",
      "Epoch 84: saving model to model/keypoint_classifier\\keypoint_classifier.keras\n",
      "65/65 [==============================] - 0s 6ms/step - loss: 0.4214 - accuracy: 0.8768 - val_loss: 0.2200 - val_accuracy: 0.9563\n",
      "Epoch 85/100\n",
      "59/65 [==========================>...] - ETA: 0s - loss: 0.4265 - accuracy: 0.8804\n",
      "Epoch 85: saving model to model/keypoint_classifier\\keypoint_classifier.keras\n",
      "65/65 [==============================] - 0s 6ms/step - loss: 0.4259 - accuracy: 0.8804 - val_loss: 0.2288 - val_accuracy: 0.9479\n",
      "Epoch 86/100\n",
      "57/65 [=========================>....] - ETA: 0s - loss: 0.4177 - accuracy: 0.8799\n",
      "Epoch 86: saving model to model/keypoint_classifier\\keypoint_classifier.keras\n",
      "65/65 [==============================] - 0s 6ms/step - loss: 0.4232 - accuracy: 0.8785 - val_loss: 0.2277 - val_accuracy: 0.9454\n",
      "Epoch 87/100\n",
      "65/65 [==============================] - ETA: 0s - loss: 0.4156 - accuracy: 0.8816\n",
      "Epoch 87: saving model to model/keypoint_classifier\\keypoint_classifier.keras\n",
      "65/65 [==============================] - 1s 8ms/step - loss: 0.4156 - accuracy: 0.8816 - val_loss: 0.2288 - val_accuracy: 0.9424\n",
      "Epoch 88/100\n",
      "61/65 [===========================>..] - ETA: 0s - loss: 0.4222 - accuracy: 0.8804\n",
      "Epoch 88: saving model to model/keypoint_classifier\\keypoint_classifier.keras\n",
      "65/65 [==============================] - 0s 6ms/step - loss: 0.4214 - accuracy: 0.8800 - val_loss: 0.2132 - val_accuracy: 0.9530\n",
      "Epoch 89/100\n",
      "61/65 [===========================>..] - ETA: 0s - loss: 0.4237 - accuracy: 0.8810\n",
      "Epoch 89: saving model to model/keypoint_classifier\\keypoint_classifier.keras\n",
      "65/65 [==============================] - 0s 6ms/step - loss: 0.4202 - accuracy: 0.8825 - val_loss: 0.2136 - val_accuracy: 0.9552\n",
      "Epoch 90/100\n",
      "57/65 [=========================>....] - ETA: 0s - loss: 0.4130 - accuracy: 0.8861\n",
      "Epoch 90: saving model to model/keypoint_classifier\\keypoint_classifier.keras\n",
      "65/65 [==============================] - 0s 6ms/step - loss: 0.4135 - accuracy: 0.8844 - val_loss: 0.2127 - val_accuracy: 0.9515\n",
      "Epoch 91/100\n",
      "57/65 [=========================>....] - ETA: 0s - loss: 0.4208 - accuracy: 0.8806\n",
      "Epoch 91: saving model to model/keypoint_classifier\\keypoint_classifier.keras\n",
      "65/65 [==============================] - 0s 6ms/step - loss: 0.4180 - accuracy: 0.8832 - val_loss: 0.2146 - val_accuracy: 0.9515\n",
      "Epoch 92/100\n",
      "55/65 [========================>.....] - ETA: 0s - loss: 0.4002 - accuracy: 0.8861\n",
      "Epoch 92: saving model to model/keypoint_classifier\\keypoint_classifier.keras\n",
      "65/65 [==============================] - 1s 8ms/step - loss: 0.4023 - accuracy: 0.8847 - val_loss: 0.2189 - val_accuracy: 0.9479\n",
      "Epoch 93/100\n",
      "59/65 [==========================>...] - ETA: 0s - loss: 0.4096 - accuracy: 0.8857\n",
      "Epoch 93: saving model to model/keypoint_classifier\\keypoint_classifier.keras\n",
      "65/65 [==============================] - 0s 6ms/step - loss: 0.4099 - accuracy: 0.8850 - val_loss: 0.2152 - val_accuracy: 0.9494\n",
      "Epoch 94/100\n",
      "56/65 [========================>.....] - ETA: 0s - loss: 0.3951 - accuracy: 0.8866\n",
      "Epoch 94: saving model to model/keypoint_classifier\\keypoint_classifier.keras\n",
      "65/65 [==============================] - 0s 6ms/step - loss: 0.4000 - accuracy: 0.8855 - val_loss: 0.2231 - val_accuracy: 0.9435\n",
      "Epoch 95/100\n",
      "58/65 [=========================>....] - ETA: 0s - loss: 0.4092 - accuracy: 0.8813\n",
      "Epoch 95: saving model to model/keypoint_classifier\\keypoint_classifier.keras\n",
      "65/65 [==============================] - 0s 6ms/step - loss: 0.4085 - accuracy: 0.8818 - val_loss: 0.2152 - val_accuracy: 0.9570\n",
      "Epoch 96/100\n",
      "58/65 [=========================>....] - ETA: 0s - loss: 0.4068 - accuracy: 0.8864\n",
      "Epoch 96: saving model to model/keypoint_classifier\\keypoint_classifier.keras\n",
      "65/65 [==============================] - 0s 6ms/step - loss: 0.4033 - accuracy: 0.8875 - val_loss: 0.2090 - val_accuracy: 0.9526\n",
      "Epoch 97/100\n",
      "56/65 [========================>.....] - ETA: 0s - loss: 0.4019 - accuracy: 0.8842\n",
      "Epoch 97: saving model to model/keypoint_classifier\\keypoint_classifier.keras\n",
      "65/65 [==============================] - 1s 8ms/step - loss: 0.4058 - accuracy: 0.8828 - val_loss: 0.2091 - val_accuracy: 0.9519\n",
      "Epoch 98/100\n",
      "57/65 [=========================>....] - ETA: 0s - loss: 0.4064 - accuracy: 0.8797\n",
      "Epoch 98: saving model to model/keypoint_classifier\\keypoint_classifier.keras\n",
      "65/65 [==============================] - 0s 6ms/step - loss: 0.4047 - accuracy: 0.8806 - val_loss: 0.2113 - val_accuracy: 0.9537\n",
      "Epoch 99/100\n",
      "64/65 [============================>.] - ETA: 0s - loss: 0.4080 - accuracy: 0.8807\n",
      "Epoch 99: saving model to model/keypoint_classifier\\keypoint_classifier.keras\n",
      "65/65 [==============================] - 1s 10ms/step - loss: 0.4077 - accuracy: 0.8807 - val_loss: 0.2173 - val_accuracy: 0.9505\n",
      "Epoch 100/100\n",
      "60/65 [==========================>...] - ETA: 0s - loss: 0.3945 - accuracy: 0.8870\n",
      "Epoch 100: saving model to model/keypoint_classifier\\keypoint_classifier.keras\n",
      "65/65 [==============================] - 1s 8ms/step - loss: 0.3973 - accuracy: 0.8857 - val_loss: 0.2105 - val_accuracy: 0.9530\n"
     ]
    }
   ],
   "source": [
    "# Entrenar el modelo y guardar la historia\n",
    "history = model.fit(\n",
    "    X_train,\n",
    "    y_train,\n",
    "    epochs=100,\n",
    "    batch_size=128,\n",
    "    validation_data=(X_test, y_test),\n",
    "    callbacks=[cp_callback, es_callback]\n",
    ")"
   ]
  },
  {
   "cell_type": "code",
   "execution_count": 41,
   "metadata": {},
   "outputs": [
    {
     "data": {
      "image/png": "[encoded data removed]",
      "text/plain": [
       "<Figure size 800x800 with 2 Axes>"
      ]
     },
     "metadata": {},
     "output_type": "display_data"
    }
   ],
   "source": [
    "import matplotlib.pyplot as plt\n",
    "\n",
    "# Graficar la precisión\n",
    "plt.figure(figsize=(8, 8))\n",
    "plt.subplot(2, 1, 1)\n",
    "plt.plot(history.history['accuracy'], label='Precisión de entrenamiento')\n",
    "plt.plot(history.history['val_accuracy'], label='Precisión de validación')\n",
    "plt.legend(loc='lower right')\n",
    "plt.title('Precisión de entrenamiento y validación')\n",
    "\n",
    "# Graficar la pérdida\n",
    "plt.subplot(2, 1, 2)\n",
    "plt.plot(history.history['loss'], label='Pérdida de entrenamiento')\n",
    "plt.plot(history.history['val_loss'], label='Pérdida de validación')\n",
    "plt.legend(loc='upper right')\n",
    "plt.title('Pérdida de entrenamiento y validación')\n",
    "plt.xlabel('Época')\n",
    "plt.show()"
   ]
  },
  {
   "cell_type": "code",
   "execution_count": 42,
   "metadata": {},
   "outputs": [
    {
     "name": "stdout",
     "output_type": "stream",
     "text": [
      "22/22 [==============================] - 0s 5ms/step - loss: 0.2313 - accuracy: 0.9464\n"
     ]
    }
   ],
   "source": [
    "# Evaluación del modelo\n",
    "val_loss, val_acc = model.evaluate(X_val, y_val, batch_size=128)"
   ]
  },
  {
   "cell_type": "code",
   "execution_count": 43,
   "metadata": {},
   "outputs": [],
   "source": [
    "# Carga del modelo guardado\n",
    "model = tf.keras.models.load_model(model_save_path)"
   ]
  },
  {
   "cell_type": "code",
   "execution_count": 44,
   "metadata": {},
   "outputs": [
    {
     "name": "stdout",
     "output_type": "stream",
     "text": [
      "1/1 [==============================] - 0s 58ms/step\n",
      "[5.9139001e-01 4.0144309e-01 4.4613029e-03 2.8045995e-06 1.8184565e-03\n",
      " 9.2486625e-06 8.7511237e-04]\n",
      "0\n"
     ]
    }
   ],
   "source": [
    "# Prueba de inferencia\n",
    "predict_result = model.predict(np.array([X_val[0]]))\n",
    "print(np.squeeze(predict_result))\n",
    "print(np.argmax(np.squeeze(predict_result)))"
   ]
  },
  {
   "cell_type": "markdown",
   "metadata": {},
   "source": [
    "# Matriz de confusión"
   ]
  },
  {
   "cell_type": "code",
   "execution_count": 45,
   "metadata": {},
   "outputs": [
    {
     "name": "stdout",
     "output_type": "stream",
     "text": [
      "86/86 [==============================] - 0s 4ms/step\n"
     ]
    },
    {
     "data": {
      "image/png": "[encoded data removed]",
      "text/plain": [
       "<Figure size 700x600 with 2 Axes>"
      ]
     },
     "metadata": {},
     "output_type": "display_data"
    },
    {
     "name": "stdout",
     "output_type": "stream",
     "text": [
      "Classification Report\n",
      "              precision    recall  f1-score   support\n",
      "\n",
      "           0       0.99      0.85      0.92       313\n",
      "           1       0.94      0.90      0.92       309\n",
      "           2       0.84      0.90      0.87       269\n",
      "           3       0.98      0.98      0.98       960\n",
      "           4       0.92      0.93      0.92       282\n",
      "           5       0.92      0.99      0.95       288\n",
      "           6       0.96      0.99      0.98       324\n",
      "\n",
      "    accuracy                           0.95      2745\n",
      "   macro avg       0.94      0.93      0.93      2745\n",
      "weighted avg       0.95      0.95      0.95      2745\n",
      "\n"
     ]
    }
   ],
   "source": [
    "import pandas as pd\n",
    "import seaborn as sns\n",
    "import matplotlib.pyplot as plt\n",
    "from sklearn.metrics import confusion_matrix, classification_report\n",
    "\n",
    "def print_confusion_matrix(y_true, y_pred, labels_name, report=True):\n",
    "    labels = sorted(list(set(y_true)))\n",
    "    cmx_data = confusion_matrix(y_true, y_pred, labels=range(len(labels_name)))\n",
    "    \n",
    "    df_cmx = pd.DataFrame(cmx_data, index=labels_name, columns=labels_name)\n",
    " \n",
    "    fig, ax = plt.subplots(figsize=(7, 6))\n",
    "    sns.heatmap(df_cmx, annot=True, fmt='g' ,square=False)\n",
    "    ax.set_ylim(len(set(y_true)), 0)\n",
    "    plt.show()\n",
    "    \n",
    "    if report:\n",
    "        print('Classification Report')\n",
    "        print(classification_report(y_val, y_pred))\n",
    "\n",
    "Y_pred = model.predict(X_val)\n",
    "y_pred = np.argmax(Y_pred, axis=1)\n",
    "\n",
    "print_confusion_matrix(y_val, y_pred, labels_name)"
   ]
  },
  {
   "cell_type": "markdown",
   "metadata": {},
   "source": [
    "# Conversión a modelo para Tensorflow-Lite"
   ]
  },
  {
   "cell_type": "code",
   "execution_count": 19,
   "metadata": {},
   "outputs": [],
   "source": [
    "# Guardar como modelo exclusivamente para inferencia\n",
    "model.save(model_save_path, include_optimizer=False)"
   ]
  },
  {
   "cell_type": "code",
   "execution_count": 20,
   "metadata": {},
   "outputs": [
    {
     "name": "stdout",
     "output_type": "stream",
     "text": [
      "INFO:tensorflow:Assets written to: C:\\Users\\GAMA\\AppData\\Local\\Temp\\tmpqxba6b68\\assets\n"
     ]
    },
    {
     "data": {
      "text/plain": [
       "10200"
      ]
     },
     "execution_count": 20,
     "metadata": {},
     "output_type": "execute_result"
    }
   ],
   "source": [
    "# Modelo de conversión (cuantificación)\n",
    "tflite_save_path = 'model/keypoint_classifier/keypoint_classifier.tflite'\n",
    "\n",
    "converter = tf.lite.TFLiteConverter.from_keras_model(model)\n",
    "converter.optimizations = [tf.lite.Optimize.DEFAULT]\n",
    "tflite_quantized_model = converter.convert()\n",
    "\n",
    "open(tflite_save_path, 'wb').write(tflite_quantized_model)"
   ]
  },
  {
   "cell_type": "markdown",
   "metadata": {},
   "source": [
    "# Prueba de inferencia"
   ]
  },
  {
   "cell_type": "code",
   "execution_count": 21,
   "metadata": {},
   "outputs": [],
   "source": [
    "interpreter = tf.lite.Interpreter(model_path=tflite_save_path)\n",
    "interpreter.allocate_tensors()"
   ]
  },
  {
   "cell_type": "code",
   "execution_count": 22,
   "metadata": {},
   "outputs": [],
   "source": [
    "# Obtener tensores de entrada y salida\n",
    "input_details = interpreter.get_input_details()\n",
    "output_details = interpreter.get_output_details()"
   ]
  },
  {
   "cell_type": "code",
   "execution_count": 23,
   "metadata": {},
   "outputs": [],
   "source": [
    "interpreter.set_tensor(input_details[0]['index'], np.array([X_val[0]]))"
   ]
  },
  {
   "cell_type": "code",
   "execution_count": 26,
   "metadata": {
    "scrolled": true
   },
   "outputs": [
    {
     "name": "stdout",
     "output_type": "stream",
     "text": [
      "CPU times: total: 0 ns\n",
      "Wall time: 0 ns\n"
     ]
    }
   ],
   "source": [
    "%%time\n",
    "# Realizar inferencia\n",
    "interpreter.invoke()\n",
    "tflite_results = interpreter.get_tensor(output_details[0]['index'])"
   ]
  },
  {
   "cell_type": "code",
   "execution_count": 27,
   "metadata": {},
   "outputs": [
    {
     "name": "stdout",
     "output_type": "stream",
     "text": [
      "[0.00223623 0.01008472 0.9554578  0.03084191 0.00137943]\n",
      "2\n"
     ]
    }
   ],
   "source": [
    "print(np.squeeze(tflite_results))\n",
    "print(np.argmax(np.squeeze(tflite_results)))"
   ]
  }
 ],
 "metadata": {
  "kernelspec": {
   "display_name": "Python 3",
   "language": "python",
   "name": "python3"
  },
  "language_info": {
   "codemirror_mode": {
    "name": "ipython",
    "version": 3
   },
   "file_extension": ".py",
   "mimetype": "text/x-python",
   "name": "python",
   "nbconvert_exporter": "python",
   "pygments_lexer": "ipython3",
   "version": "3.10.11"
  }
 },
 "nbformat": 4,
 "nbformat_minor": 4
}
